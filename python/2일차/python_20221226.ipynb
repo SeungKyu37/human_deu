{
 "cells": [
  {
   "cell_type": "markdown",
   "metadata": {
    "id": "MnqAd945045C",
    "tags": []
   },
   "source": [
    "## 기초문법\n",
    "\n",
    "\n"
   ]
  },
  {
   "cell_type": "markdown",
   "metadata": {
    "id": "5Zua3sLh58QE"
   },
   "source": [
    "### 파이썬 확장자명\n",
    "- .py : 개발용\n",
    "- .ipynb : 분석가, 데이터 싸이언티스트, 강의용\n",
    "  + 주피터 노트북, 주피터 랩"
   ]
  },
  {
   "cell_type": "code",
   "execution_count": 1,
   "metadata": {
    "colab": {
     "base_uri": "https://localhost:8080/"
    },
    "id": "GGB1yFda1_eq",
    "outputId": "29c9099d-cba1-40a0-f358-915f10465a4e"
   },
   "outputs": [
    {
     "data": {
      "text/plain": [
       "2"
      ]
     },
     "execution_count": 1,
     "metadata": {},
     "output_type": "execute_result"
    }
   ],
   "source": [
    "1+1"
   ]
  },
  {
   "cell_type": "code",
   "execution_count": 2,
   "metadata": {
    "colab": {
     "base_uri": "https://localhost:8080/"
    },
    "id": "_5VkVAqS4ysr",
    "outputId": "514e65df-7e02-4b3f-8b7b-0824d6f03fc5",
    "tags": []
   },
   "outputs": [
    {
     "name": "stdout",
     "output_type": "stream",
     "text": [
      "Hello, World\n"
     ]
    }
   ],
   "source": [
    "print(\"Hello, World\")"
   ]
  },
  {
   "cell_type": "markdown",
   "metadata": {
    "id": "pN2JYaLG4-QS"
   },
   "source": [
    "## 주석처리\n",
    "- 한줄 주석 처리\n",
    "- 여러줄 주석 처리\n",
    "\n"
   ]
  },
  {
   "cell_type": "code",
   "execution_count": 3,
   "metadata": {
    "colab": {
     "base_uri": "https://localhost:8080/"
    },
    "id": "E_Pi26wX5GbK",
    "outputId": "624ca867-5307-4732-8094-141a2558d4c6"
   },
   "outputs": [
    {
     "name": "stdout",
     "output_type": "stream",
     "text": [
      "Hello World\n"
     ]
    }
   ],
   "source": [
    "# 한줄 주석 처리, 주석 주석\n",
    "\n",
    "print(\"Hello World\")"
   ]
  },
  {
   "cell_type": "code",
   "execution_count": 5,
   "metadata": {
    "colab": {
     "base_uri": "https://localhost:8080/"
    },
    "id": "WgESwY8V5P4K",
    "outputId": "df4fe784-f9c5-4547-90e5-fa47a7cc9fec"
   },
   "outputs": [
    {
     "name": "stdout",
     "output_type": "stream",
     "text": [
      "Hello, World\n"
     ]
    }
   ],
   "source": [
    "\"\"\"\n",
    "abc\n",
    "dec\n",
    "def\n",
    "\"\"\"\n",
    "\n",
    "print(\"Hello, World\")"
   ]
  },
  {
   "cell_type": "markdown",
   "metadata": {
    "id": "g501F1Be8_0b"
   },
   "source": [
    "ipynb 파일을 md + 이미지 같이 변환 가능\n",
    "--> 노션에서 내보내기"
   ]
  },
  {
   "cell_type": "markdown",
   "metadata": {
    "id": "EHcXY5kO8yaF"
   },
   "source": [
    "## 그림"
   ]
  },
  {
   "cell_type": "code",
   "execution_count": 6,
   "metadata": {
    "colab": {
     "base_uri": "https://localhost:8080/",
     "height": 265
    },
    "id": "-8uoaXK280Uk",
    "outputId": "dc46a2ac-a9dd-4251-a161-9c4c69c59471"
   },
   "outputs": [
    {
     "data": {
      "image/png": "[encoded data removed]",
      "text/plain": [
       "<Figure size 432x288 with 1 Axes>"
      ]
     },
     "metadata": {
      "needs_background": "light"
     },
     "output_type": "display_data"
    }
   ],
   "source": [
    "import matplotlib.pyplot as plt\n",
    "\n",
    "plt.plot([1, 2, 3])\n",
    "plt.show()"
   ]
  },
  {
   "cell_type": "markdown",
   "metadata": {
    "id": "dqqM0_JU9YBE"
   },
   "source": [
    "## 변수의 종류\n",
    "- 변수의 종류 : 숫자, 문자, 논리(True, False), NULL\n",
    "\n"
   ]
  },
  {
   "cell_type": "code",
   "execution_count": 8,
   "metadata": {
    "colab": {
     "base_uri": "https://localhost:8080/"
    },
    "id": "CMi3mOLl9i_U",
    "outputId": "8543f058-b899-4de0-d862-513f2045b84b"
   },
   "outputs": [
    {
     "name": "stdout",
     "output_type": "stream",
     "text": [
      "1\n",
      "<class 'int'>\n"
     ]
    }
   ],
   "source": [
    "# 정수형\n",
    "num_int = 1\n",
    "print(num_int)\n",
    "print(type(num_int))"
   ]
  },
  {
   "cell_type": "code",
   "execution_count": 9,
   "metadata": {
    "colab": {
     "base_uri": "https://localhost:8080/"
    },
    "id": "VOSxIk3u91wM",
    "outputId": "51ab1e6c-b910-4c46-cfe2-d14e354f3ce1"
   },
   "outputs": [
    {
     "name": "stdout",
     "output_type": "stream",
     "text": [
      "0.2\n",
      "<class 'float'>\n"
     ]
    }
   ],
   "source": [
    "# 실수형\n",
    "num_float = 0.2\n",
    "print(num_float)\n",
    "print(type(num_float))"
   ]
  },
  {
   "cell_type": "code",
   "execution_count": 10,
   "metadata": {
    "colab": {
     "base_uri": "https://localhost:8080/"
    },
    "id": "q27_5P6W-gPl",
    "outputId": "461a6684-06a3-4ab2-aac0-0c0fde2a723f"
   },
   "outputs": [
    {
     "name": "stdout",
     "output_type": "stream",
     "text": [
      "False\n",
      "<class 'bool'>\n"
     ]
    }
   ],
   "source": [
    "# 논리 자료형\n",
    "bool_true = False # True\n",
    "print(bool_true)\n",
    "print(type(bool_true))"
   ]
  },
  {
   "cell_type": "code",
   "execution_count": 11,
   "metadata": {
    "colab": {
     "base_uri": "https://localhost:8080/"
    },
    "id": "8p7mXQ4r-vBV",
    "outputId": "91f96bf8-b286-495d-d2a9-1425664fb2ee"
   },
   "outputs": [
    {
     "name": "stdout",
     "output_type": "stream",
     "text": [
      "None\n",
      "<class 'NoneType'>\n"
     ]
    }
   ],
   "source": [
    "# NULL 자료형\n",
    "none_x = None\n",
    "print(none_x)\n",
    "print(type(none_x))"
   ]
  },
  {
   "cell_type": "markdown",
   "metadata": {
    "id": "LECLlc81_Ab9"
   },
   "source": [
    "### 4가지 자료형 : Scalar 자료형\n",
    "- int, float, bool, NoneType\n",
    "- 더는 나눌 수 없는 최소 단위의 자료형\n",
    "  + 이 객체 하나로는 반복문 사용이 불가"
   ]
  },
  {
   "cell_type": "markdown",
   "metadata": {
    "id": "Lj1F9lWg_xds"
   },
   "source": [
    "## 정수형 사칙 연산\n",
    "- 결괏값의 자료형 확인\n",
    "- 특이한 사칙연산 하나 있음(나눗셈) - 결과 : 실수형"
   ]
  },
  {
   "cell_type": "code",
   "execution_count": 19,
   "metadata": {
    "colab": {
     "base_uri": "https://localhost:8080/"
    },
    "id": "pr41-tyj_5BX",
    "outputId": "07f13f49-b2eb-4937-ee52-b17db1867d2d"
   },
   "outputs": [
    {
     "name": "stdout",
     "output_type": "stream",
     "text": [
      "2.0\n",
      "<class 'float'>\n"
     ]
    }
   ],
   "source": [
    "a = 4\n",
    "b = 2\n",
    "\n",
    "c = a / b\n",
    "\n",
    "print(c)\n",
    "print(type(c))"
   ]
  },
  {
   "cell_type": "markdown",
   "metadata": {
    "id": "M9tSKMjpAk4O"
   },
   "source": [
    "## 실수형 사칙 연산\n",
    "- 결괏값의 자료형 확인"
   ]
  },
  {
   "cell_type": "code",
   "execution_count": 21,
   "metadata": {
    "colab": {
     "base_uri": "https://localhost:8080/"
    },
    "id": "KPFcSBIUAnKl",
    "outputId": "a249f9da-21b5-4126-f842-d572aec23ba8"
   },
   "outputs": [
    {
     "name": "stdout",
     "output_type": "stream",
     "text": [
      "8.0\n",
      "<class 'float'>\n"
     ]
    }
   ],
   "source": [
    "a = 4.0\n",
    "b = 2.0\n",
    "\n",
    "c = a * b\n",
    "\n",
    "print(c)\n",
    "print(type(c))"
   ]
  },
  {
   "cell_type": "markdown",
   "metadata": {
    "id": "ApYv8UkJA2J_"
   },
   "source": [
    "## 논리형 연산자\n",
    "- AND / OR / NOT(옵션)"
   ]
  },
  {
   "cell_type": "code",
   "execution_count": 23,
   "metadata": {
    "colab": {
     "base_uri": "https://localhost:8080/"
    },
    "id": "6kJ_qfgPA_Od",
    "outputId": "663e53aa-c2b8-4e84-92b8-411e194dbe1d"
   },
   "outputs": [
    {
     "name": "stdout",
     "output_type": "stream",
     "text": [
      "True\n",
      "False\n",
      "False\n",
      "False\n"
     ]
    }
   ],
   "source": [
    "print(True and True)\n",
    "print(True and False)\n",
    "print(False and True)\n",
    "print(False and False)"
   ]
  },
  {
   "cell_type": "code",
   "execution_count": 24,
   "metadata": {
    "colab": {
     "base_uri": "https://localhost:8080/"
    },
    "id": "Wkv1bgW8BTJI",
    "outputId": "28b3789a-2b04-4acc-e8d7-187519eb6451"
   },
   "outputs": [
    {
     "name": "stdout",
     "output_type": "stream",
     "text": [
      "True\n",
      "True\n",
      "True\n",
      "False\n"
     ]
    }
   ],
   "source": [
    "print(True or True)\n",
    "print(True or False)\n",
    "print(False or True)\n",
    "print(False or False)"
   ]
  },
  {
   "cell_type": "markdown",
   "metadata": {
    "id": "J_Rm9I91BXCY"
   },
   "source": [
    "## 부등호 연산자\n",
    "- `>`, `<`, `>=`, `<=`"
   ]
  },
  {
   "cell_type": "code",
   "execution_count": 29,
   "metadata": {
    "colab": {
     "base_uri": "https://localhost:8080/"
    },
    "id": "caCBd_xnBmgN",
    "outputId": "834d09dc-0de0-4f6b-8113-6e8dd0689b05"
   },
   "outputs": [
    {
     "name": "stdout",
     "output_type": "stream",
     "text": [
      "True\n",
      "False\n",
      "True\n",
      "False\n"
     ]
    }
   ],
   "source": [
    "print(4 > 3)\n",
    "print(4 < 3)\n",
    "print(4 >= 3)\n",
    "print(4 <= 3)"
   ]
  },
  {
   "cell_type": "markdown",
   "metadata": {
    "id": "VIFVL1C7BziN"
   },
   "source": [
    "## 두 개의 값 비교\n",
    "- 입력받아서 True, False가 나오도록 간단한 프로그램 작성\n",
    "- 형변환 배우기"
   ]
  },
  {
   "cell_type": "code",
   "execution_count": 33,
   "metadata": {
    "colab": {
     "base_uri": "https://localhost:8080/"
    },
    "id": "2yjMZZz3CIFf",
    "outputId": "585e3882-2d51-4b82-f1c9-208c248fe90f"
   },
   "outputs": [
    {
     "name": "stdout",
     "output_type": "stream",
     "text": [
      "값을 입력해주세요!123\n",
      "----------\n",
      "123\n",
      "<class 'str'>\n"
     ]
    }
   ],
   "source": [
    "var = input(\"값을 입력해주세요!\")\n",
    "print(\"----------\")\n",
    "print(var)\n",
    "print(type(var))"
   ]
  },
  {
   "cell_type": "code",
   "execution_count": 36,
   "metadata": {
    "colab": {
     "base_uri": "https://localhost:8080/"
    },
    "id": "vfUpwgqxCuX-",
    "outputId": "3b2bae66-2750-437b-c6c4-fb2bd347d6a0"
   },
   "outputs": [
    {
     "name": "stdout",
     "output_type": "stream",
     "text": [
      "값을 입력해주세요!123\n",
      "값을 입력해주세요!456\n",
      "579.0\n"
     ]
    }
   ],
   "source": [
    "# 형변환\n",
    "# 바꾸고 싶은 타입(기존 자료형)\n",
    "\n",
    "var1 = float(input(\"값을 입력해주세요!\"))\n",
    "var2 = float(input(\"값을 입력해주세요!\"))\n",
    "\n",
    "print(var1 + var2)"
   ]
  },
  {
   "cell_type": "code",
   "execution_count": 37,
   "metadata": {
    "colab": {
     "base_uri": "https://localhost:8080/"
    },
    "id": "rluRhDMjDaXO",
    "outputId": "754dc21b-46c1-4aaa-adce-73a095560423"
   },
   "outputs": [
    {
     "name": "stdout",
     "output_type": "stream",
     "text": [
      "False\n"
     ]
    }
   ],
   "source": [
    "print(var1 > var2)"
   ]
  },
  {
   "cell_type": "markdown",
   "metadata": {},
   "source": [
    "## 문자열 연산자\n",
    "- 덧셈과 곱셈 활용"
   ]
  },
  {
   "cell_type": "code",
   "execution_count": null,
   "metadata": {},
   "outputs": [
    {
     "name": "stdout",
     "output_type": "stream",
     "text": [
      "Hello\n",
      "World\n"
     ]
    }
   ],
   "source": [
    "a = 'Hello'\n",
    "b = 'World'\n",
    "\n",
    "print(a)\n",
    "print(b)"
   ]
  },
  {
   "cell_type": "code",
   "execution_count": null,
   "metadata": {},
   "outputs": [
    {
     "name": "stdout",
     "output_type": "stream",
     "text": [
      "HelloWorld\n",
      "HelloWorldHelloWorldHelloWorld\n"
     ]
    }
   ],
   "source": [
    "c = a + b\n",
    "print(c)\n",
    "print(c * 3)"
   ]
  },
  {
   "cell_type": "markdown",
   "metadata": {},
   "source": [
    "## 인덱싱 (Indexing)\n",
    "- 문자열 범위 지정 및 추출"
   ]
  },
  {
   "cell_type": "code",
   "execution_count": null,
   "metadata": {},
   "outputs": [
    {
     "ename": "IndexError",
     "evalue": "string index out of range",
     "output_type": "error",
     "traceback": [
      "\u001b[1;31m---------------------------------------------------------------------------\u001b[0m\n",
      "\u001b[1;31mIndexError\u001b[0m                                Traceback (most recent call last)\n",
      "Cell \u001b[1;32mIn[14], line 2\u001b[0m\n",
      "\u001b[0;32m      1\u001b[0m greeting \u001b[38;5;241m=\u001b[39m \u001b[38;5;124m\"\u001b[39m\u001b[38;5;124mHello World!\u001b[39m\u001b[38;5;124m\"\u001b[39m\n",
      "\u001b[1;32m----> 2\u001b[0m \u001b[38;5;28mprint\u001b[39m(\u001b[43mgreeting\u001b[49m\u001b[43m[\u001b[49m\u001b[38;5;241;43m12\u001b[39;49m\u001b[43m]\u001b[49m)\n",
      "\n",
      "\u001b[1;31mIndexError\u001b[0m: string index out of range"
     ]
    }
   ],
   "source": [
    "greeting = \"Hello World!\"\n",
    "print(greeting[12]) # 에러 : 인덱스 범위를 벗어남"
   ]
  },
  {
   "cell_type": "markdown",
   "metadata": {},
   "source": [
    "## 슬라이싱\n",
    "- 주피터 노트북에서 마크다운으로 변환 / 마크다운으로 코드셀로 변환 단축기 존재"
   ]
  },
  {
   "cell_type": "code",
   "execution_count": null,
   "metadata": {},
   "outputs": [
    {
     "name": "stdout",
     "output_type": "stream",
     "text": [
      "Hello World!\n",
      "o World!\n",
      "oWrd\n",
      "Hello Wo\n",
      "HloW\n",
      "lo Wo\n",
      "HloWrd\n",
      "<class 'str'>\n",
      "0123456789\n",
      "3456789\n"
     ]
    }
   ],
   "source": [
    "greeting = \"Hello World!\"\n",
    "print(greeting[:])\n",
    "print(greeting[4:])\n",
    "print(greeting[4::2])\n",
    "print(greeting[:8]) # 7번째 글자까지\n",
    "print(greeting[:8:2])\n",
    "print(greeting[3:8])\n",
    "print(greeting[::2]) # 2칸씩 띄어서 가져오기\n",
    "\n",
    "number = \"0123456789\"\n",
    "print(type(number))\n",
    "print(number[:])\n",
    "print(number[3:])\n"
   ]
  },
  {
   "cell_type": "markdown",
   "metadata": {
    "id": "EqWkkrbyxo5I",
    "tags": []
   },
   "source": [
    "## str 메서드\n",
    "\n",
    "- 파이썬 함수 (=Methods) 사용법 익히기\n",
    "- 관련 문서 확인하기\n",
    "- https://docs.python.org/3/library/stdtypes.html#string-methods\n",
    "\n",
    "1.   항목 추가\n",
    "2.   항목 추가\n",
    "\n"
   ]
  },
  {
   "cell_type": "code",
   "execution_count": 46,
   "metadata": {
    "colab": {
     "base_uri": "https://localhost:8080/",
     "height": 248
    },
    "id": "8YVftOz9x6KJ",
    "outputId": "f03751f8-8e62-4d1e-a6e7-a3b19bc33039"
   },
   "outputs": [
    {
     "name": "stdout",
     "output_type": "stream",
     "text": [
      "<class 'str'>\n"
     ]
    },
    {
     "ename": "AttributeError",
     "evalue": "ignored",
     "output_type": "error",
     "traceback": [
      "\u001b[0;31m---------------------------------------------------------------------------\u001b[0m",
      "\u001b[0;31mAttributeError\u001b[0m                            Traceback (most recent call last)",
      "\u001b[0;32m<ipython-input-46-0a6a21c00888>\u001b[0m in \u001b[0;36m<module>\u001b[0;34m\u001b[0m\n\u001b[1;32m      3\u001b[0m \u001b[0mprint\u001b[0m\u001b[0;34m(\u001b[0m\u001b[0mtype\u001b[0m\u001b[0;34m(\u001b[0m\u001b[0mtext\u001b[0m\u001b[0;34m)\u001b[0m\u001b[0;34m)\u001b[0m\u001b[0;34m\u001b[0m\u001b[0;34m\u001b[0m\u001b[0m\n\u001b[1;32m      4\u001b[0m \u001b[0mresult\u001b[0m \u001b[0;34m=\u001b[0m \u001b[0mtext\u001b[0m\u001b[0;34m.\u001b[0m\u001b[0mcapitalize\u001b[0m\u001b[0;34m(\u001b[0m\u001b[0;34m)\u001b[0m\u001b[0;34m\u001b[0m\u001b[0;34m\u001b[0m\u001b[0m\n\u001b[0;32m----> 5\u001b[0;31m \u001b[0mresult\u001b[0m \u001b[0;34m=\u001b[0m \u001b[0mtext\u001b[0m\u001b[0;34m.\u001b[0m\u001b[0mcapital\u001b[0m\u001b[0;34m(\u001b[0m\u001b[0;34m)\u001b[0m \u001b[0;31m# 에러 : 관련된 함수가 없다.\u001b[0m\u001b[0;34m\u001b[0m\u001b[0;34m\u001b[0m\u001b[0m\n\u001b[0m\u001b[1;32m      6\u001b[0m \u001b[0mprint\u001b[0m\u001b[0;34m(\u001b[0m\u001b[0mresult\u001b[0m\u001b[0;34m)\u001b[0m\u001b[0;34m\u001b[0m\u001b[0;34m\u001b[0m\u001b[0m\n",
      "\u001b[0;31mAttributeError\u001b[0m: 'str' object has no attribute 'capital'"
     ]
    }
   ],
   "source": [
    "# Capitalize\n",
    "text = 'i love YOU' # str 클래스 객체\n",
    "print(type(text))\n",
    "result = text.capitalize() # 첫 글자 대문자 만들어주는 메서드\n",
    "result = text.capital() # 에러 : 관련된 함수가 없다.\n",
    "print(result)"
   ]
  },
  {
   "cell_type": "code",
   "execution_count": 44,
   "metadata": {
    "colab": {
     "base_uri": "https://localhost:8080/"
    },
    "id": "wrVXmO9i1G6q",
    "outputId": "d5a2ba98-f386-4ba6-8b50-9eec6e201641"
   },
   "outputs": [
    {
     "name": "stdout",
     "output_type": "stream",
     "text": [
      "    python is best    \n",
      "python is best\n"
     ]
    }
   ],
   "source": [
    "text = '    python is best    '\n",
    "print(text)\n",
    "result = text.strip() # 양쪽 공백을 없애주는 메서드\n",
    "#lstrip은 왼쪽 공백, rstrinp은 오른쪽 공백\n",
    "print(result)"
   ]
  },
  {
   "cell_type": "code",
   "execution_count": 57,
   "metadata": {
    "colab": {
     "base_uri": "https://localhost:8080/"
    },
    "id": "4KAgEaLq2QgB",
    "outputId": "7f83686b-7953-4c0f-9c05-434fa66c00d3"
   },
   "outputs": [
    {
     "name": "stdout",
     "output_type": "stream",
     "text": [
      "['국내', '연구팀이', '벽과', '천장을', '빠르게', '기어다니며', '점검,', '수리', '등', '위험한', '작업을', '대신해줄', '수', '있는', '사족보행', '로봇을', '개발했다.']\n",
      "<class 'list'>\n"
     ]
    }
   ],
   "source": [
    "# split\n",
    "# 문장을 분리하는 메서드\n",
    "text = \"국내 연구팀이 벽과 천장을 빠르게 기어다니며 점검, 수리 등 위험한 작업을 대신해줄 수 있는 사족보행 로봇을 개발했다.\"\n",
    "result = text.split(' ')\n",
    "print(result)\n",
    "print(type(result)) # 결과 : 리스트"
   ]
  },
  {
   "cell_type": "code",
   "execution_count": 61,
   "metadata": {
    "colab": {
     "base_uri": "https://localhost:8080/"
    },
    "id": "zbEsMT077Led",
    "outputId": "64416b80-0989-4b9f-e6da-27aa4a872153"
   },
   "outputs": [
    {
     "name": "stdout",
     "output_type": "stream",
     "text": [
      "2\n"
     ]
    }
   ],
   "source": [
    "# count\n",
    "# 문자열 중 같은 문자의 개수를 보여주는 메서드\n",
    "text = \"text\"\n",
    "result = text.count(\"t\")\n",
    "print(result)"
   ]
  },
  {
   "cell_type": "code",
   "execution_count": 68,
   "metadata": {
    "colab": {
     "base_uri": "https://localhost:8080/"
    },
    "id": "z85oL7Uc7pNb",
    "outputId": "f1f84792-2c92-4270-9958-96cf0ff6279a"
   },
   "outputs": [
    {
     "name": "stdout",
     "output_type": "stream",
     "text": [
      "2\n",
      "-1\n"
     ]
    }
   ],
   "source": [
    "# find\n",
    "# 처음 위치를 알려주는 메서드\n",
    "text = \"human\"\n",
    "result1 = text.find(\"m\")\n",
    "result2 = text.find(\"k\")\n",
    "print(result1)\n",
    "print(result2) # 찾는 값이 존재 하지 않는다면 -1"
   ]
  },
  {
   "cell_type": "code",
   "execution_count": 71,
   "metadata": {
    "colab": {
     "base_uri": "https://localhost:8080/",
     "height": 248
    },
    "id": "ZOAiM3KB8ISr",
    "outputId": "0362b1ba-e0d5-4474-aa4f-10284e9c804d"
   },
   "outputs": [
    {
     "ename": "ValueError",
     "evalue": "ignored",
     "output_type": "error",
     "traceback": [
      "\u001b[0;31m---------------------------------------------------------------------------\u001b[0m",
      "\u001b[0;31mValueError\u001b[0m                                Traceback (most recent call last)",
      "\u001b[0;32m<ipython-input-71-ba67f9501537>\u001b[0m in \u001b[0;36m<module>\u001b[0;34m\u001b[0m\n\u001b[1;32m      3\u001b[0m \u001b[0mtext\u001b[0m \u001b[0;34m=\u001b[0m \u001b[0;34m\"human\"\u001b[0m\u001b[0;34m\u001b[0m\u001b[0;34m\u001b[0m\u001b[0m\n\u001b[1;32m      4\u001b[0m \u001b[0mresult1\u001b[0m \u001b[0;34m=\u001b[0m \u001b[0mtext\u001b[0m\u001b[0;34m.\u001b[0m\u001b[0mindex\u001b[0m\u001b[0;34m(\u001b[0m\u001b[0;34m\"m\"\u001b[0m\u001b[0;34m)\u001b[0m\u001b[0;34m\u001b[0m\u001b[0;34m\u001b[0m\u001b[0m\n\u001b[0;32m----> 5\u001b[0;31m \u001b[0mresult2\u001b[0m \u001b[0;34m=\u001b[0m \u001b[0mtext\u001b[0m\u001b[0;34m.\u001b[0m\u001b[0mindex\u001b[0m\u001b[0;34m(\u001b[0m\u001b[0;34m\"k\"\u001b[0m\u001b[0;34m)\u001b[0m\u001b[0;34m\u001b[0m\u001b[0;34m\u001b[0m\u001b[0m\n\u001b[0m\u001b[1;32m      6\u001b[0m \u001b[0mprint\u001b[0m\u001b[0;34m(\u001b[0m\u001b[0mresult1\u001b[0m\u001b[0;34m)\u001b[0m\u001b[0;34m\u001b[0m\u001b[0;34m\u001b[0m\u001b[0m\n\u001b[1;32m      7\u001b[0m \u001b[0mprint\u001b[0m\u001b[0;34m(\u001b[0m\u001b[0mresult2\u001b[0m\u001b[0;34m)\u001b[0m \u001b[0;31m# 찾는 값이 존재 하지 않는다면 에러\u001b[0m\u001b[0;34m\u001b[0m\u001b[0;34m\u001b[0m\u001b[0m\n",
      "\u001b[0;31mValueError\u001b[0m: substring not found"
     ]
    }
   ],
   "source": [
    "# index\n",
    "# 처음 위치를 알려주는 메서드\n",
    "text = \"human\"\n",
    "result1 = text.index(\"m\")\n",
    "result2 = text.index(\"k\")\n",
    "print(result1)\n",
    "print(result2) # 찾는 값이 존재 하지 않는다면 에러"
   ]
  },
  {
   "cell_type": "code",
   "execution_count": 74,
   "metadata": {
    "colab": {
     "base_uri": "https://localhost:8080/"
    },
    "id": "4a58t7398jyr",
    "outputId": "b93327a0-8703-4776-eab4-4b221863f123"
   },
   "outputs": [
    {
     "name": "stdout",
     "output_type": "stream",
     "text": [
      "h u m a n\n"
     ]
    }
   ],
   "source": [
    "# join\n",
    "# 문자열 삽입 메서드\n",
    "text = \"human\"\n",
    "result = \" \".join(text)\n",
    "print(result)"
   ]
  },
  {
   "cell_type": "code",
   "execution_count": 76,
   "metadata": {
    "colab": {
     "base_uri": "https://localhost:8080/"
    },
    "id": "NYePqYaS84lq",
    "outputId": "68aaf00e-54d5-4a11-acf8-26e6aec722c2"
   },
   "outputs": [
    {
     "name": "stdout",
     "output_type": "stream",
     "text": [
      "HUMAN\n"
     ]
    }
   ],
   "source": [
    "# upper\n",
    "# 소문자를 대문자로 바꾸는 메서드\n",
    "text = \"human\"\n",
    "result = text.upper()\n",
    "print(result)"
   ]
  },
  {
   "cell_type": "code",
   "execution_count": 78,
   "metadata": {
    "colab": {
     "base_uri": "https://localhost:8080/"
    },
    "id": "0rE1oJMS9Dli",
    "outputId": "320c5238-b565-4702-ea6d-9dbd03ad1154"
   },
   "outputs": [
    {
     "name": "stdout",
     "output_type": "stream",
     "text": [
      "human\n"
     ]
    }
   ],
   "source": [
    "# lower\n",
    "# 대문자를 소문자로 바꾸는 메서드\n",
    "text = \"HUMAN\"\n",
    "result = text.lower()\n",
    "print(result)"
   ]
  },
  {
   "cell_type": "code",
   "execution_count": 81,
   "metadata": {
    "colab": {
     "base_uri": "https://localhost:8080/"
    },
    "id": "5N_AeJsj9Ij0",
    "outputId": "3f41563f-3a4f-4f68-f778-201ef09d29b8"
   },
   "outputs": [
    {
     "name": "stdout",
     "output_type": "stream",
     "text": [
      "human is strong\n",
      "gorila is strong\n"
     ]
    }
   ],
   "source": [
    "# replace\n",
    "# 문자열을 바꿔주는 메서드\n",
    "text = \"human is strong\"\n",
    "print(text)\n",
    "result = text.replace(\"human\", \"gorila\")\n",
    "print(result)"
   ]
  },
  {
   "cell_type": "markdown",
   "metadata": {},
   "source": [
    "## 리스트\n",
    "- 가장 기본적인 배열 자료형(?) / ArrayList\n",
    "- 시퀀스 데이터 : 데이터에 순서가 존재함"
   ]
  },
  {
   "cell_type": "code",
   "execution_count": null,
   "metadata": {},
   "outputs": [
    {
     "name": "stdout",
     "output_type": "stream",
     "text": [
      "[]\n",
      "<class 'list'>\n",
      "[]\n",
      "<class 'list'>\n"
     ]
    }
   ],
   "source": [
    "a = [] # 값이 비어있는 리스트\n",
    "a_list_func = list() # 값이 비어있는 리스트\n",
    "\n",
    "print(a)\n",
    "print(type(a))\n",
    "\n",
    "print(a_list_func)\n",
    "print(type(a_list_func))"
   ]
  },
  {
   "cell_type": "markdown",
   "metadata": {},
   "source": [
    "- 값을 추가한다."
   ]
  },
  {
   "cell_type": "code",
   "execution_count": null,
   "metadata": {},
   "outputs": [
    {
     "name": "stdout",
     "output_type": "stream",
     "text": [
      "[1, 2, 3, 4, 5, 6, 7, 8, ['apple', 'banana', 'carrot'], 'humanedu']\n",
      "1\n",
      "[1, 3, 5, 7]\n"
     ]
    }
   ],
   "source": [
    "a = [1, 2, 3, 4, 5, 6, 7, 8, ['apple', 'banana', 'carrot'],\"humanedu\"]\n",
    "print(a)\n",
    "print(a[0])\n",
    "print(a[0:7:2])"
   ]
  },
  {
   "cell_type": "markdown",
   "metadata": {},
   "source": [
    "- a 리스트 안에 있는 banana 문자열에서 맨 마지막 글자 a를 추출한다.\n",
    "- 중첩리스트 : 리스트 안에 또다른 리스트가 존재함"
   ]
  },
  {
   "cell_type": "code",
   "execution_count": null,
   "metadata": {},
   "outputs": [
    {
     "name": "stdout",
     "output_type": "stream",
     "text": [
      "a\n"
     ]
    }
   ],
   "source": [
    "# b = a[8][1][-1]\n",
    "b = a[8]\n",
    "c = b[1]\n",
    "print(c[-1])"
   ]
  },
  {
   "cell_type": "code",
   "execution_count": null,
   "metadata": {},
   "outputs": [
    {
     "name": "stdout",
     "output_type": "stream",
     "text": [
      "a\n",
      "o\n",
      "e\n"
     ]
    }
   ],
   "source": [
    "# banana의 마지막 'a' 가져오기\n",
    "b = a[8][1][-1]\n",
    "print(b)\n",
    "\n",
    "# carrot의 'o'가져오기\n",
    "c = a[8][2][-2]\n",
    "print(c)\n",
    "\n",
    "# humanedu의 'e' 가져오기\n",
    "d = a[9][-3]\n",
    "print(d)"
   ]
  },
  {
   "cell_type": "markdown",
   "metadata": {},
   "source": [
    "## 리스트 연산자\n",
    "- 덧셈, 곱셈 적용 후 결과 확인\n"
   ]
  },
  {
   "cell_type": "code",
   "execution_count": null,
   "metadata": {},
   "outputs": [
    {
     "name": "stdout",
     "output_type": "stream",
     "text": [
      "[1, 2, 3, 4, 5, 6, 7]\n"
     ]
    }
   ],
   "source": [
    "a = [1, 2, 3]\n",
    "b = [4, 5, 6, 7]\n",
    "\n",
    "print(a + b)"
   ]
  },
  {
   "cell_type": "code",
   "execution_count": null,
   "metadata": {},
   "outputs": [
    {
     "name": "stdout",
     "output_type": "stream",
     "text": [
      "[1, 2, 3, 1, 2, 3, 1, 2, 3]\n"
     ]
    }
   ],
   "source": [
    "a = [1, 2, 3]\n",
    "print(a * 3)"
   ]
  },
  {
   "cell_type": "markdown",
   "metadata": {},
   "source": [
    "## 리스트 값 수정하기\n",
    "- 리스트 내 원소의 값을 수정한다."
   ]
  },
  {
   "cell_type": "code",
   "execution_count": null,
   "metadata": {},
   "outputs": [
    {
     "name": "stdout",
     "output_type": "stream",
     "text": [
      "['a', 'a', 'a', 'a']\n"
     ]
    }
   ],
   "source": [
    "a = ['a', 'b', 'a', 'a']\n",
    "a[1] = 'a'\n",
    "print(a)"
   ]
  },
  {
   "cell_type": "markdown",
   "metadata": {
    "jp-MarkdownHeadingCollapsed": true,
    "tags": []
   },
   "source": [
    "## 리스트 클래스 내부의 여러 함수\n",
    "- 참조 : https://docs.python.org/3/tutorial/datastructures.html"
   ]
  },
  {
   "cell_type": "markdown",
   "metadata": {
    "id": "PUgkOYyR5LVM"
   },
   "source": [
    "## 리스트 자료형 메서드"
   ]
  },
  {
   "cell_type": "code",
   "execution_count": 56,
   "metadata": {
    "colab": {
     "base_uri": "https://localhost:8080/"
    },
    "id": "DjM7PHj-5NS6",
    "outputId": "4d442526-1a16-49a9-af13-23cc023066f2"
   },
   "outputs": [
    {
     "name": "stdout",
     "output_type": "stream",
     "text": [
      "[100, 200, 300, 400, [400, 500, 600]]\n",
      "None\n"
     ]
    }
   ],
   "source": [
    "a = [100, 200, 300]\n",
    "b = [400, 500, 600]\n",
    "\n",
    "result = a.append(400)\n",
    "a.append(b) # append는 하나의 객체만 들어간다.\n",
    "# a.append(500)\n",
    "# a.append(600)\n",
    "\n",
    "print(a)\n",
    "# [100, 200, 300] X\n",
    "\n",
    "print(result)\n",
    "# [100, 200, 300, 400] X"
   ]
  },
  {
   "cell_type": "code",
   "execution_count": 82,
   "metadata": {
    "colab": {
     "base_uri": "https://localhost:8080/"
    },
    "id": "ShH8fRGe_TaV",
    "outputId": "a283533e-2b35-4ff5-ea4e-5e019bedbbb5"
   },
   "outputs": [
    {
     "name": "stdout",
     "output_type": "stream",
     "text": [
      "[100, 200, 300, 400, 500, 600]\n"
     ]
    }
   ],
   "source": [
    "a = [100, 200, 300]\n",
    "b = [400, 500, 600]\n",
    "\n",
    "# 반복문 활용(복잡)\n",
    "# extend()\n",
    "a.extend(b)\n",
    "\n",
    "print(a)"
   ]
  },
  {
   "cell_type": "markdown",
   "metadata": {
    "id": "O1gNeTWu_tU0"
   },
   "source": [
    "- 리스트 중간에 새로운 값을 추가"
   ]
  },
  {
   "cell_type": "code",
   "execution_count": 83,
   "metadata": {
    "colab": {
     "base_uri": "https://localhost:8080/"
    },
    "id": "it6ESoV2_v1t",
    "outputId": "bbf84b05-6163-442d-d894-a3d53e1f5a06"
   },
   "outputs": [
    {
     "name": "stdout",
     "output_type": "stream",
     "text": [
      "[100, 150, 200, 300]\n"
     ]
    }
   ],
   "source": [
    "# insert()\n",
    "a = [100, 200, 300]\n",
    "\n",
    "# 100과 200 사이에 150을 추가하기\n",
    "a.insert(1, 150)\n",
    "print(a)"
   ]
  },
  {
   "cell_type": "markdown",
   "metadata": {
    "id": "8WX-T4omAiAk"
   },
   "source": [
    "### 리스트 내 특정 값 삭제"
   ]
  },
  {
   "cell_type": "code",
   "execution_count": 86,
   "metadata": {
    "colab": {
     "base_uri": "https://localhost:8080/",
     "height": 266
    },
    "id": "9Ao7nmkQAnAs",
    "outputId": "02003eba-e438-4214-afaf-597fff3f324f"
   },
   "outputs": [
    {
     "name": "stdout",
     "output_type": "stream",
     "text": [
      "[2, 1, 2]\n",
      "[2, 2]\n"
     ]
    },
    {
     "ename": "ValueError",
     "evalue": "ignored",
     "output_type": "error",
     "traceback": [
      "\u001b[0;31m---------------------------------------------------------------------------\u001b[0m",
      "\u001b[0;31mValueError\u001b[0m                                Traceback (most recent call last)",
      "\u001b[0;32m<ipython-input-86-acce37008341>\u001b[0m in \u001b[0;36m<module>\u001b[0;34m\u001b[0m\n\u001b[1;32m      6\u001b[0m \u001b[0mprint\u001b[0m\u001b[0;34m(\u001b[0m\u001b[0ma\u001b[0m\u001b[0;34m)\u001b[0m\u001b[0;34m\u001b[0m\u001b[0;34m\u001b[0m\u001b[0m\n\u001b[1;32m      7\u001b[0m \u001b[0;34m\u001b[0m\u001b[0m\n\u001b[0;32m----> 8\u001b[0;31m \u001b[0ma\u001b[0m\u001b[0;34m.\u001b[0m\u001b[0mremove\u001b[0m\u001b[0;34m(\u001b[0m\u001b[0;36m3\u001b[0m\u001b[0;34m)\u001b[0m\u001b[0;34m\u001b[0m\u001b[0;34m\u001b[0m\u001b[0m\n\u001b[0m\u001b[1;32m      9\u001b[0m \u001b[0mprint\u001b[0m\u001b[0;34m(\u001b[0m\u001b[0ma\u001b[0m\u001b[0;34m)\u001b[0m\u001b[0;34m\u001b[0m\u001b[0;34m\u001b[0m\u001b[0m\n",
      "\u001b[0;31mValueError\u001b[0m: list.remove(x): x not in list"
     ]
    }
   ],
   "source": [
    "a = [1, 2, 1, 2]\n",
    "a.remove(1) # value 값 / index X\n",
    "print(a)\n",
    "\n",
    "a.remove(1)\n",
    "print(a)\n",
    "\n",
    "a.remove(3) # 없는 값은 에러\n",
    "print(a)"
   ]
  },
  {
   "cell_type": "code",
   "execution_count": 89,
   "metadata": {
    "colab": {
     "base_uri": "https://localhost:8080/"
    },
    "id": "yTvIssa4BKSd",
    "outputId": "fdba0c83-b24d-42cc-e59c-eba96baf7cd5"
   },
   "outputs": [
    {
     "name": "stdout",
     "output_type": "stream",
     "text": [
      "[0, 2, 3, 4, 5, 6, 7, 8, 9]\n",
      "[0, 200]\n",
      "[0, 6, 7, 8, 9]\n"
     ]
    }
   ],
   "source": [
    "a = [0, 1, 2, 3, 4, 5, 6, 7, 8, 9]\n",
    "b = [0, 100, 200]\n",
    "# 1 삭제\n",
    "del a[1] # index 번호\n",
    "del b[1]\n",
    "\n",
    "print(a)\n",
    "print(b)\n",
    "\n",
    "# 범위로 삭제\n",
    "del a[1:5]\n",
    "print(a)"
   ]
  },
  {
   "cell_type": "markdown",
   "metadata": {
    "id": "0nqMNtY5CEtV"
   },
   "source": [
    "- 전체 다 지우자"
   ]
  },
  {
   "cell_type": "code",
   "execution_count": 90,
   "metadata": {
    "colab": {
     "base_uri": "https://localhost:8080/"
    },
    "id": "CQziNF1pCClO",
    "outputId": "5d5a1d8d-6701-4dd4-8ebe-05138cf0040c"
   },
   "outputs": [
    {
     "name": "stdout",
     "output_type": "stream",
     "text": [
      "[1, 1, 1, 1, 1, 1, 1]\n",
      "[]\n"
     ]
    }
   ],
   "source": [
    "a = [1,1,1,1,1,1,1]\n",
    "print(a)\n",
    "\n",
    "a.clear()\n",
    "print(a)"
   ]
  },
  {
   "cell_type": "code",
   "execution_count": 95,
   "metadata": {
    "colab": {
     "base_uri": "https://localhost:8080/"
    },
    "id": "o4z_K_fbCcgg",
    "outputId": "b89a73f4-8dab-43af-8dff-42da735706d3"
   },
   "outputs": [
    {
     "name": "stdout",
     "output_type": "stream",
     "text": [
      "2\n"
     ]
    }
   ],
   "source": [
    "a = [\"Gold\", \"Gold\", \"Silver\", \"Silver\"]\n",
    "\n",
    "# Silver가 처음 등장하는 인덱스 번호 궁금\n",
    "print(a.index(\"Silver\"))"
   ]
  },
  {
   "cell_type": "markdown",
   "metadata": {
    "id": "PTAqXuq1C0MG"
   },
   "source": [
    "- 정렬"
   ]
  },
  {
   "cell_type": "code",
   "execution_count": 96,
   "metadata": {
    "colab": {
     "base_uri": "https://localhost:8080/"
    },
    "id": "3hXxSdf-B8z9",
    "outputId": "8ee14ec9-86c7-4974-9ae1-42524e5c813f"
   },
   "outputs": [
    {
     "name": "stdout",
     "output_type": "stream",
     "text": [
      "[1, 2, 3, 4, 5, 6]\n",
      "['a', 'b', 'c', 'd']\n"
     ]
    }
   ],
   "source": [
    "a = [1, 6, 5, 2, 3, 4]\n",
    "a.sort()\n",
    "print(a)\n",
    "\n",
    "b = ['a','c','d','b'] # 알파벳 순서도 가능\n",
    "b.sort()\n",
    "print(b)"
   ]
  },
  {
   "cell_type": "code",
   "execution_count": 101,
   "metadata": {
    "colab": {
     "base_uri": "https://localhost:8080/"
    },
    "id": "UHiVZrt1C-ZG",
    "outputId": "04273cd2-d2f3-4529-9d23-39de5bc947e2"
   },
   "outputs": [
    {
     "name": "stdout",
     "output_type": "stream",
     "text": [
      "[6, 5, 4, 3, 2, 1]\n"
     ]
    }
   ],
   "source": [
    "# 내림차순으로 정렬\n",
    "a = [1, 6, 5, 2, 3, 4] \n",
    "a.sort(reverse=True)\n",
    "print(a)"
   ]
  },
  {
   "cell_type": "code",
   "execution_count": 102,
   "metadata": {
    "colab": {
     "base_uri": "https://localhost:8080/",
     "height": 193
    },
    "id": "jopDYUQzEnCf",
    "outputId": "2210d926-3e07-4e26-dfab-9bcbb46055aa"
   },
   "outputs": [
    {
     "ename": "TypeError",
     "evalue": "ignored",
     "output_type": "error",
     "traceback": [
      "\u001b[0;31m---------------------------------------------------------------------------\u001b[0m",
      "\u001b[0;31mTypeError\u001b[0m                                 Traceback (most recent call last)",
      "\u001b[0;32m<ipython-input-102-c15441fd928e>\u001b[0m in \u001b[0;36m<module>\u001b[0;34m\u001b[0m\n\u001b[1;32m      1\u001b[0m \u001b[0ma\u001b[0m \u001b[0;34m=\u001b[0m \u001b[0;34m[\u001b[0m\u001b[0;36m1\u001b[0m\u001b[0;34m,\u001b[0m \u001b[0;36m6\u001b[0m\u001b[0;34m,\u001b[0m \u001b[0;36m5\u001b[0m\u001b[0;34m,\u001b[0m \u001b[0;36m2\u001b[0m\u001b[0;34m,\u001b[0m \u001b[0;36m3\u001b[0m\u001b[0;34m,\u001b[0m \u001b[0;36m4\u001b[0m\u001b[0;34m,\u001b[0m \u001b[0;34m\"a\"\u001b[0m\u001b[0;34m]\u001b[0m\u001b[0;34m\u001b[0m\u001b[0;34m\u001b[0m\u001b[0m\n\u001b[0;32m----> 2\u001b[0;31m \u001b[0ma\u001b[0m\u001b[0;34m.\u001b[0m\u001b[0msort\u001b[0m\u001b[0;34m(\u001b[0m\u001b[0;34m)\u001b[0m\u001b[0;34m\u001b[0m\u001b[0;34m\u001b[0m\u001b[0m\n\u001b[0m",
      "\u001b[0;31mTypeError\u001b[0m: '<' not supported between instances of 'str' and 'int'"
     ]
    }
   ],
   "source": [
    " a = [1, 6, 5, 2, 3, 4, \"a\"]\n",
    " a.sort()"
   ]
  },
  {
   "cell_type": "code",
   "execution_count": 103,
   "metadata": {
    "colab": {
     "base_uri": "https://localhost:8080/"
    },
    "id": "avFn_QBZE7Je",
    "outputId": "6d585535-6c50-4b38-bf4c-a2bb39caf268"
   },
   "outputs": [
    {
     "name": "stdout",
     "output_type": "stream",
     "text": [
      "1\n",
      "6\n",
      "6\n"
     ]
    }
   ],
   "source": [
    "a = [1, 6, 5, 2, 3, 4]\n",
    "print(min(a)) # 최솟값\n",
    "print(max(a)) # 최댓값\n",
    "print(len(a)) # 길이"
   ]
  },
  {
   "cell_type": "code",
   "execution_count": 122,
   "metadata": {
    "colab": {
     "base_uri": "https://localhost:8080/"
    },
    "id": "fLIdDNLHJf7A",
    "outputId": "5d681ecd-cb13-499b-844c-f387a7104874"
   },
   "outputs": [
    {
     "name": "stdout",
     "output_type": "stream",
     "text": [
      "['a', 'b', 'c']\n"
     ]
    }
   ],
   "source": [
    "# 리스트 뒤집기\n",
    "a = [\"c\" , \"b\", \"a\"]\n",
    "a.reverse()\n",
    "print(a)"
   ]
  },
  {
   "cell_type": "code",
   "execution_count": 125,
   "metadata": {
    "colab": {
     "base_uri": "https://localhost:8080/"
    },
    "id": "ul06svDRJuSg",
    "outputId": "d4eed83e-4136-466b-a19b-00c7dccff601"
   },
   "outputs": [
    {
     "name": "stdout",
     "output_type": "stream",
     "text": [
      "2\n",
      "0\n"
     ]
    }
   ],
   "source": [
    "# 인덱스 값 가져오기\n",
    "a = [1, 2, 3 ,4]\n",
    "b = a.index(3)\n",
    "print(b)\n",
    "c = a.index(1)\n",
    "print(c)"
   ]
  },
  {
   "cell_type": "code",
   "execution_count": 126,
   "metadata": {
    "colab": {
     "base_uri": "https://localhost:8080/"
    },
    "id": "AN7PO_FbKK6a",
    "outputId": "c8616e64-7038-4dc8-a724-f20ac89f3f6c"
   },
   "outputs": [
    {
     "name": "stdout",
     "output_type": "stream",
     "text": [
      "4\n",
      "[1, 2, 3]\n"
     ]
    }
   ],
   "source": [
    "# 리스트의 마지막 값 가져오고 삭제하기\n",
    "a = [1, 2, 3, 4]\n",
    "b = a.pop()\n",
    "print(b)\n",
    "print(a)"
   ]
  },
  {
   "cell_type": "code",
   "execution_count": 128,
   "metadata": {
    "colab": {
     "base_uri": "https://localhost:8080/"
    },
    "id": "penBCsl3KcKc",
    "outputId": "cf5a7887-b842-4d96-afc5-e01661515c8f"
   },
   "outputs": [
    {
     "name": "stdout",
     "output_type": "stream",
     "text": [
      "2\n"
     ]
    }
   ],
   "source": [
    "# 리스트의 포함된 객체 수 세기\n",
    "a = [1, 2, 3, 1]\n",
    "b = a.count(1)\n",
    "print(b)"
   ]
  },
  {
   "cell_type": "markdown",
   "metadata": {
    "id": "a1KU-c_6GCiS"
   },
   "source": [
    "## 튜플\n",
    "- 튜플 생성\n"
   ]
  },
  {
   "cell_type": "code",
   "execution_count": 105,
   "metadata": {
    "colab": {
     "base_uri": "https://localhost:8080/"
    },
    "id": "T2XkFe6VGFXf",
    "outputId": "a6194628-66d9-413f-a500-5f981213014c"
   },
   "outputs": [
    {
     "name": "stdout",
     "output_type": "stream",
     "text": [
      "(0,)\n",
      "(0, 1, 2)\n",
      "(0, 1, 2, 3)\n",
      "<class 'tuple'>\n",
      "<class 'tuple'>\n",
      "<class 'tuple'>\n"
     ]
    }
   ],
   "source": [
    "tuple1 = (0,)\n",
    "tuple2 = (0, 1, 2)\n",
    "tuple3 = 0, 1, 2, 3\n",
    "\n",
    "print(tuple1)\n",
    "print(tuple2)\n",
    "print(tuple3)\n",
    "\n",
    "print(type(tuple1))\n",
    "print(type(tuple2))\n",
    "print(type(tuple3))"
   ]
  },
  {
   "cell_type": "code",
   "execution_count": 106,
   "metadata": {
    "colab": {
     "base_uri": "https://localhost:8080/"
    },
    "id": "LYvVeRNxGeGa",
    "outputId": "e73b72b8-8b4a-4078-fa86-3dbbb1e0ff1d"
   },
   "outputs": [
    {
     "name": "stdout",
     "output_type": "stream",
     "text": [
      "1\n",
      "<class 'int'>\n"
     ]
    }
   ],
   "source": [
    "tuple0 = (1)\n",
    "print(tuple0)\n",
    "print(type(tuple0))"
   ]
  },
  {
   "cell_type": "code",
   "execution_count": 111,
   "metadata": {
    "colab": {
     "base_uri": "https://localhost:8080/",
     "height": 248
    },
    "id": "duHcsOF8Gr_3",
    "outputId": "2533139a-b760-4e06-dfed-ac3b618c51e8"
   },
   "outputs": [
    {
     "name": "stdout",
     "output_type": "stream",
     "text": [
      "(0, 1, 2, 'A')\n"
     ]
    },
    {
     "ename": "AttributeError",
     "evalue": "ignored",
     "output_type": "error",
     "traceback": [
      "\u001b[0;31m---------------------------------------------------------------------------\u001b[0m",
      "\u001b[0;31mAttributeError\u001b[0m                            Traceback (most recent call last)",
      "\u001b[0;32m<ipython-input-111-3ec266c6a4f9>\u001b[0m in \u001b[0;36m<module>\u001b[0;34m\u001b[0m\n\u001b[1;32m      2\u001b[0m \u001b[0mprint\u001b[0m\u001b[0;34m(\u001b[0m\u001b[0ma\u001b[0m\u001b[0;34m)\u001b[0m\u001b[0;34m\u001b[0m\u001b[0;34m\u001b[0m\u001b[0m\n\u001b[1;32m      3\u001b[0m \u001b[0;34m\u001b[0m\u001b[0m\n\u001b[0;32m----> 4\u001b[0;31m \u001b[0ma\u001b[0m\u001b[0;34m.\u001b[0m\u001b[0mremove\u001b[0m\u001b[0;34m(\u001b[0m\u001b[0;34m'A'\u001b[0m\u001b[0;34m)\u001b[0m\u001b[0;34m\u001b[0m\u001b[0;34m\u001b[0m\u001b[0m\n\u001b[0m\u001b[1;32m      5\u001b[0m \u001b[0mprint\u001b[0m\u001b[0;34m(\u001b[0m\u001b[0ma\u001b[0m\u001b[0;34m)\u001b[0m\u001b[0;34m\u001b[0m\u001b[0;34m\u001b[0m\u001b[0m\n",
      "\u001b[0;31mAttributeError\u001b[0m: 'tuple' object has no attribute 'remove'"
     ]
    }
   ],
   "source": [
    "a = (0, 1, 2, 'A')\n",
    "print(a)\n",
    "\n",
    "a.remove('A') # tuple의 객체는 지울 수 없다.\n",
    "print(a)"
   ]
  },
  {
   "cell_type": "code",
   "execution_count": 114,
   "metadata": {
    "colab": {
     "base_uri": "https://localhost:8080/",
     "height": 229
    },
    "id": "VtGeC6z4HgNP",
    "outputId": "6a7d7d3c-5803-48d4-d1a6-87875c55fb97"
   },
   "outputs": [
    {
     "ename": "TypeError",
     "evalue": "ignored",
     "output_type": "error",
     "traceback": [
      "\u001b[0;31m---------------------------------------------------------------------------\u001b[0m",
      "\u001b[0;31mTypeError\u001b[0m                                 Traceback (most recent call last)",
      "\u001b[0;32m<ipython-input-114-d375b9119a43>\u001b[0m in \u001b[0;36m<module>\u001b[0;34m\u001b[0m\n\u001b[1;32m      1\u001b[0m \u001b[0ma\u001b[0m \u001b[0;34m=\u001b[0m \u001b[0;34m(\u001b[0m\u001b[0;36m0\u001b[0m\u001b[0;34m,\u001b[0m \u001b[0;36m1\u001b[0m\u001b[0;34m,\u001b[0m \u001b[0;36m2\u001b[0m\u001b[0;34m,\u001b[0m \u001b[0;34m'A'\u001b[0m\u001b[0;34m)\u001b[0m\u001b[0;34m\u001b[0m\u001b[0;34m\u001b[0m\u001b[0m\n\u001b[1;32m      2\u001b[0m \u001b[0;34m\u001b[0m\u001b[0m\n\u001b[0;32m----> 3\u001b[0;31m \u001b[0;32mdel\u001b[0m \u001b[0ma\u001b[0m\u001b[0;34m[\u001b[0m\u001b[0;36m3\u001b[0m\u001b[0;34m]\u001b[0m\u001b[0;34m\u001b[0m\u001b[0;34m\u001b[0m\u001b[0m\n\u001b[0m\u001b[1;32m      4\u001b[0m \u001b[0mprint\u001b[0m\u001b[0;34m(\u001b[0m\u001b[0ma\u001b[0m\u001b[0;34m)\u001b[0m\u001b[0;34m\u001b[0m\u001b[0;34m\u001b[0m\u001b[0m\n",
      "\u001b[0;31mTypeError\u001b[0m: 'tuple' object doesn't support item deletion"
     ]
    }
   ],
   "source": [
    "a = (0, 1, 2, 'A')\n",
    "\n",
    "del a[3] # tuple의 객체는 지울 수 없다\n",
    "print(a)"
   ]
  },
  {
   "cell_type": "markdown",
   "metadata": {
    "id": "POHIWBHZIHgg"
   },
   "source": [
    "### 튜플 인덱싱 및 슬라이싱\n"
   ]
  },
  {
   "cell_type": "code",
   "execution_count": 117,
   "metadata": {
    "colab": {
     "base_uri": "https://localhost:8080/"
    },
    "id": "CpKNlIe4IMsv",
    "outputId": "5c75935a-5ff4-40c8-b8f6-ffb79ea67d55"
   },
   "outputs": [
    {
     "name": "stdout",
     "output_type": "stream",
     "text": [
      "2\n",
      "(0, 3, 6, 9)\n"
     ]
    }
   ],
   "source": [
    "tuple0 = (0, 1, 2, 3, 4, 5, 6, 7, 8, 9)\n",
    "print(tuple0[2])\n",
    "print(tuple0[::3])"
   ]
  },
  {
   "cell_type": "code",
   "execution_count": 129,
   "metadata": {
    "colab": {
     "base_uri": "https://localhost:8080/"
    },
    "id": "bV8QzLOMIkHg",
    "outputId": "41460f87-8d11-40da-c67c-457391507cc0"
   },
   "outputs": [
    {
     "name": "stdout",
     "output_type": "stream",
     "text": [
      "(1, 2, 3, 4, 5, 6, 7, 8)\n",
      "(1, 2, 3, 4, 1, 2, 3, 4, 1, 2, 3, 4)\n"
     ]
    }
   ],
   "source": [
    "tuple1 = (1, 2, 3, 4)\n",
    "tuple2 = (5, 6, 7, 8)\n",
    "a = tuple1 + tuple2\n",
    "print(a)\n",
    "a = tuple1 * 3\n",
    "print(a)"
   ]
  },
  {
   "cell_type": "markdown",
   "metadata": {
    "id": "bTBGJq1JNYAS",
    "tags": []
   },
   "source": [
    "## 딕셔너리\n",
    "- JSON과 유사한 자료형"
   ]
  },
  {
   "cell_type": "code",
   "execution_count": 130,
   "metadata": {
    "colab": {
     "base_uri": "https://localhost:8080/"
    },
    "id": "sxiDxin2NbuE",
    "outputId": "b91a79e8-1985-46b7-9e2f-9bbec3731f33"
   },
   "outputs": [
    {
     "name": "stdout",
     "output_type": "stream",
     "text": [
      "{1: 'One', 2: 'Two', 3: 'Three'}\n"
     ]
    }
   ],
   "source": [
    "# {key:value}\n",
    "numbers = {1 : \"One\", 2 : \"Two\", 3 : \"Three\"}\n",
    "print(numbers)"
   ]
  },
  {
   "cell_type": "code",
   "execution_count": 131,
   "metadata": {
    "colab": {
     "base_uri": "https://localhost:8080/"
    },
    "id": "bqg2uRXVNuES",
    "outputId": "21be9a67-2f4a-43a0-924f-1c0aa7eb9892"
   },
   "outputs": [
    {
     "name": "stdout",
     "output_type": "stream",
     "text": [
      "{'한국': '서울', '일본': '도쿄', '중국': '북경'}\n"
     ]
    }
   ],
   "source": [
    "country_capital = {\"한국\" : \"서울\", \"일본\" : \"도쿄\", \"중국\" : \"북경\"}\n",
    "print(country_capital)"
   ]
  },
  {
   "cell_type": "code",
   "execution_count": 133,
   "metadata": {
    "colab": {
     "base_uri": "https://localhost:8080/"
    },
    "id": "gy8uTeN-OCD6",
    "outputId": "f568b491-9f22-42fb-b37d-08b60060a793"
   },
   "outputs": [
    {
     "name": "stdout",
     "output_type": "stream",
     "text": [
      "One\n",
      "서울\n"
     ]
    }
   ],
   "source": [
    "print(numbers[1])\n",
    "print(country_capital['한국'])"
   ]
  },
  {
   "cell_type": "code",
   "execution_count": 135,
   "metadata": {
    "colab": {
     "base_uri": "https://localhost:8080/"
    },
    "id": "2wM-MfsxORvR",
    "outputId": "811b3871-5a47-4865-86dd-6aca583ed4f8"
   },
   "outputs": [
    {
     "name": "stdout",
     "output_type": "stream",
     "text": [
      "{1: 'One', 2: 'Two', 3: 'Three', 4: 'four'}\n",
      "{'한국': '서울', '일본': '도쿄', '중국': '북경', '미국': '워싱턴'}\n"
     ]
    }
   ],
   "source": [
    "# 값을 추가\n",
    "\n",
    "numbers[4] = 'four'\n",
    "print(numbers)\n",
    "\n",
    "country_capital['미국'] = '뉴욕'\n",
    "print(country_capital)"
   ]
  },
  {
   "cell_type": "markdown",
   "metadata": {
    "id": "aYNTCdzlOiPj"
   },
   "source": [
    "- 틀린 값 수정"
   ]
  },
  {
   "cell_type": "code",
   "execution_count": 136,
   "metadata": {
    "colab": {
     "base_uri": "https://localhost:8080/"
    },
    "id": "Li3Qi8tAOjyF",
    "outputId": "ae1c2daa-fd91-472d-d32a-9981fe0b72c6"
   },
   "outputs": [
    {
     "name": "stdout",
     "output_type": "stream",
     "text": [
      "{'한국': '서울', '일본': '도쿄', '중국': '북경', '미국': '워싱턴'}\n"
     ]
    }
   ],
   "source": [
    "country_capital['미국'] = '워싱턴'\n",
    "print(country_capital)"
   ]
  },
  {
   "cell_type": "markdown",
   "metadata": {
    "id": "diK7gQzZOxKp"
   },
   "source": [
    "- 삭제"
   ]
  },
  {
   "cell_type": "code",
   "execution_count": 137,
   "metadata": {
    "colab": {
     "base_uri": "https://localhost:8080/"
    },
    "id": "ePQ_WaXZOyWZ",
    "outputId": "bafa088a-864f-4d21-da1b-b7a1b2c10357"
   },
   "outputs": [
    {
     "name": "stdout",
     "output_type": "stream",
     "text": [
      "{'한국': '서울', '일본': '도쿄', '중국': '북경'}\n"
     ]
    }
   ],
   "source": [
    "del country_capital['미국']\n",
    "print(country_capital)"
   ]
  },
  {
   "cell_type": "markdown",
   "metadata": {
    "id": "Eh1wMoqxPDlq"
   },
   "source": [
    "### Dictionary 메서드\n",
    "- keys() : 키 값만 출력\n",
    "- values() : value값만 출력"
   ]
  },
  {
   "cell_type": "code",
   "execution_count": 140,
   "metadata": {
    "colab": {
     "base_uri": "https://localhost:8080/"
    },
    "id": "jwCQt1BxPPEw",
    "outputId": "42fcd33e-137d-473f-8a3f-bbda5beef9ef"
   },
   "outputs": [
    {
     "name": "stdout",
     "output_type": "stream",
     "text": [
      "['한국', '일본', '중국']\n",
      "<class 'list'>\n"
     ]
    }
   ],
   "source": [
    "result = list(country_capital.keys()) # 리스트 변환\n",
    "print(result)\n",
    "print(type(result))"
   ]
  },
  {
   "cell_type": "code",
   "execution_count": 141,
   "metadata": {
    "colab": {
     "base_uri": "https://localhost:8080/"
    },
    "id": "1rTPn9jQPvak",
    "outputId": "52b6db8b-6f61-4b08-bd4f-1b3e354535dc"
   },
   "outputs": [
    {
     "name": "stdout",
     "output_type": "stream",
     "text": [
      "['서울', '도쿄', '북경']\n",
      "<class 'list'>\n"
     ]
    }
   ],
   "source": [
    "result = list(country_capital.values()) # 리스트 변환\n",
    "print(result)\n",
    "print(type(result))"
   ]
  },
  {
   "cell_type": "code",
   "execution_count": 142,
   "metadata": {
    "colab": {
     "base_uri": "https://localhost:8080/"
    },
    "id": "yXmQchlmPysy",
    "outputId": "c42346fb-15fe-4a1a-c18c-e1518cd43650"
   },
   "outputs": [
    {
     "name": "stdout",
     "output_type": "stream",
     "text": [
      "[('한국', '서울'), ('일본', '도쿄'), ('중국', '북경')]\n",
      "<class 'list'>\n"
     ]
    }
   ],
   "source": [
    "result = list(country_capital.items()) # 리스트 변환\n",
    "print(result)\n",
    "print(type(result))"
   ]
  },
  {
   "cell_type": "markdown",
   "metadata": {
    "id": "gZUePpkzQF_l"
   },
   "source": [
    "## 조건문"
   ]
  },
  {
   "cell_type": "code",
   "execution_count": 152,
   "metadata": {
    "colab": {
     "base_uri": "https://localhost:8080/"
    },
    "id": "BijwoMaHQIGS",
    "outputId": "11c10920-2c19-474a-e28f-c948728c7e99"
   },
   "outputs": [
    {
     "name": "stdout",
     "output_type": "stream",
     "text": [
      "점수를 입력해주세요 (0~100)80\n",
      "80\n",
      "B등급\n"
     ]
    }
   ],
   "source": [
    "score = int(input(\"점수를 입력해주세요 (0~100)\"))\n",
    "print(score)\n",
    "\n",
    "if score >= 90:\n",
    "  # 코드 작성\n",
    "  print('A등급') # 앞에 공백이 있어야 한다.\n",
    "elif score >=80:\n",
    "  print('B등급')\n",
    "elif score >=70:\n",
    "  print('C등급')\n",
    "elif score >=60:\n",
    "  print('D등급')\n",
    "elif score >=50:\n",
    "  print('E등급')    \n",
    "else:\n",
    "  print('F등급')"
   ]
  },
  {
   "cell_type": "markdown",
   "metadata": {
    "id": "aKavHgelRHXs"
   },
   "source": [
    "## 반복문\n",
    "- Hello World 여러번 입력"
   ]
  },
  {
   "cell_type": "code",
   "execution_count": null,
   "metadata": {
    "id": "hEegxtGhSiXV"
   },
   "outputs": [],
   "source": [
    "range(3)"
   ]
  },
  {
   "cell_type": "code",
   "execution_count": null,
   "metadata": {
    "id": "KfQ7p7M5SjKT"
   },
   "outputs": [],
   "source": [
    "# for i in 범위가 정해진 값:"
   ]
  },
  {
   "cell_type": "code",
   "execution_count": 154,
   "metadata": {
    "colab": {
     "base_uri": "https://localhost:8080/"
    },
    "id": "lyaya2wKRF4s",
    "outputId": "51f6b319-b19e-4b68-b60f-3ecc84a473ba"
   },
   "outputs": [
    {
     "name": "stdout",
     "output_type": "stream",
     "text": [
      "1 Hello World\n",
      "2 Hello World\n",
      "3 Hello World\n"
     ]
    }
   ],
   "source": [
    "for i in range(3):\n",
    "  # 코드 작성\n",
    "  print(i + 1, \"Hello World\")"
   ]
  },
  {
   "cell_type": "code",
   "execution_count": 155,
   "metadata": {
    "colab": {
     "base_uri": "https://localhost:8080/"
    },
    "id": "-T3vCuUkSs8v",
    "outputId": "4732f003-bed4-4a64-81e8-f9c6cc12b1d8"
   },
   "outputs": [
    {
     "name": "stdout",
     "output_type": "stream",
     "text": [
      "H\n",
      "e\n",
      "l\n",
      "l\n",
      "o\n"
     ]
    }
   ],
   "source": [
    "a = \"Hello\"\n",
    "for x in a:\n",
    "  print(x)"
   ]
  },
  {
   "cell_type": "code",
   "execution_count": 156,
   "metadata": {
    "colab": {
     "base_uri": "https://localhost:8080/"
    },
    "id": "wDrCLy6JS4aE",
    "outputId": "a4a7174e-5973-48e1-d3ae-ff53ef932567"
   },
   "outputs": [
    {
     "name": "stdout",
     "output_type": "stream",
     "text": [
      "100\n",
      "200\n",
      "300\n"
     ]
    }
   ],
   "source": [
    "a = [100, 200, 300]\n",
    "for x in a:\n",
    "  print(x)"
   ]
  },
  {
   "cell_type": "code",
   "execution_count": 157,
   "metadata": {
    "colab": {
     "base_uri": "https://localhost:8080/"
    },
    "id": "ofaA-jdCTDAL",
    "outputId": "52c34789-fdc3-49d0-f7e0-95b2e2650db8"
   },
   "outputs": [
    {
     "name": "stdout",
     "output_type": "stream",
     "text": [
      "100\n",
      "200\n",
      "300\n"
     ]
    }
   ],
   "source": [
    "a = (100, 200, 300)\n",
    "for x in a:\n",
    "  print(x)"
   ]
  },
  {
   "cell_type": "code",
   "execution_count": null,
   "metadata": {
    "id": "riBhw5CMTKbT"
   },
   "outputs": [],
   "source": [
    "# for i in 범위가 정해진 값(=시퀀스데이터):"
   ]
  },
  {
   "cell_type": "markdown",
   "metadata": {
    "id": "ZLDvqzqdTYqz"
   },
   "source": [
    "## 파이썬 반복문 여러가지 방법\n",
    "- 종류가 많다"
   ]
  },
  {
   "cell_type": "code",
   "execution_count": 160,
   "metadata": {
    "colab": {
     "base_uri": "https://localhost:8080/"
    },
    "id": "9O9xrr5fTcjh",
    "outputId": "444ea838-a6a3-415f-9ff4-8de649004704"
   },
   "outputs": [
    {
     "name": "stdout",
     "output_type": "stream",
     "text": [
      "0 A\n",
      "1 B\n",
      "2 C\n"
     ]
    }
   ],
   "source": [
    "a = [\"A\", \"B\", \"C\"]\n",
    "num = 0\n",
    "for idx in a:\n",
    "  print(num, idx)\n",
    "  num = num+1"
   ]
  },
  {
   "cell_type": "code",
   "execution_count": 161,
   "metadata": {
    "colab": {
     "base_uri": "https://localhost:8080/"
    },
    "id": "ZvhwryK2T_1l",
    "outputId": "1e51f890-a23e-4b00-ae38-996d83e57ea9"
   },
   "outputs": [
    {
     "name": "stdout",
     "output_type": "stream",
     "text": [
      "0 A\n",
      "1 B\n",
      "2 C\n"
     ]
    }
   ],
   "source": [
    "a = [\"A\", \"B\", \"C\"]\n",
    "for idx, value in enumerate(a):\n",
    "  print(idx, value)"
   ]
  },
  {
   "cell_type": "code",
   "execution_count": 165,
   "metadata": {
    "colab": {
     "base_uri": "https://localhost:8080/"
    },
    "id": "GYytXqY5URDu",
    "outputId": "9bd0c375-f642-43f3-d835-1092da18c0b7"
   },
   "outputs": [
    {
     "name": "stdout",
     "output_type": "stream",
     "text": [
      "0 A\n",
      "1 B\n",
      "2 C\n"
     ]
    }
   ],
   "source": [
    "str_list = [\"A\", \"B\", \"C\"]\n",
    "num_list = [0, 1, 2]\n",
    "\n",
    "for strs, nums in zip(str_list, num_list):\n",
    "  print(nums,strs)"
   ]
  },
  {
   "cell_type": "markdown",
   "metadata": {
    "id": "IQBHTdu0UtID"
   },
   "source": [
    "## while문"
   ]
  },
  {
   "cell_type": "code",
   "execution_count": 166,
   "metadata": {
    "colab": {
     "base_uri": "https://localhost:8080/"
    },
    "id": "qMa89x7xUvWW",
    "outputId": "0d88fab4-a8f2-4aff-a49b-5855e8821d15"
   },
   "outputs": [
    {
     "name": "stdout",
     "output_type": "stream",
     "text": [
      "Hello World\n",
      "Hello World\n",
      "Hello World\n",
      "Hello World\n",
      "Hello World\n",
      "Hello World\n"
     ]
    }
   ],
   "source": [
    "i = 1\n",
    "while i < 7:\n",
    "  print(\"Hello World\")\n",
    "  i = i+1 # i+= 1"
   ]
  },
  {
   "cell_type": "markdown",
   "metadata": {
    "id": "yVmEqxM2VDOE"
   },
   "source": [
    "## 파이썬 다운 문법 : 파이써닉 방식\n",
    "- Pythonic way\n",
    "- for loop 반복문을 한줄로 처리\n",
    "- List Comprehension(리스트 컴프리헨션)"
   ]
  },
  {
   "cell_type": "code",
   "execution_count": 167,
   "metadata": {
    "colab": {
     "base_uri": "https://localhost:8080/"
    },
    "id": "0RdyJuPbVLij",
    "outputId": "75df59e3-f861-4fe3-f71d-b4e30546bfda"
   },
   "outputs": [
    {
     "data": {
      "text/plain": [
       "['apple', 'human']"
      ]
     },
     "execution_count": 167,
     "metadata": {},
     "output_type": "execute_result"
    }
   ],
   "source": [
    "a = ['computer', 'apple', 'human', 'zoo', 'country']\n",
    "\n",
    "# a가 들어간 문자만 리스트에 담자!\n",
    "result_list = []\n",
    "for x in a:\n",
    "  if \"a\" in x:\n",
    "    result_list.append(x)\n",
    "result_list"
   ]
  },
  {
   "cell_type": "code",
   "execution_count": 169,
   "metadata": {
    "colab": {
     "base_uri": "https://localhost:8080/"
    },
    "id": "Op7RHK08Vuf8",
    "outputId": "5cd8786a-9d00-4e07-d15e-5236ca04a1e0",
    "tags": []
   },
   "outputs": [
    {
     "data": {
      "text/plain": [
       "['apple', 'human']"
      ]
     },
     "execution_count": 169,
     "metadata": {},
     "output_type": "execute_result"
    }
   ],
   "source": [
    "a = ['computer', 'apple', 'human', 'zoo', 'country']\n",
    "result2 = [x for x in a if \"a\" in x]\n",
    "result2"
   ]
  }
 ],
 "metadata": {
  "colab": {
   "provenance": [],
   "toc_visible": true
  },
  "kernelspec": {
   "display_name": "Python 3 (ipykernel)",
   "language": "python",
   "name": "python3"
  },
  "language_info": {
   "codemirror_mode": {
    "name": "ipython",
    "version": 3
   },
   "file_extension": ".py",
   "mimetype": "text/x-python",
   "name": "python",
   "nbconvert_exporter": "python",
   "pygments_lexer": "ipython3",
   "version": "3.11.1"
  }
 },
 "nbformat": 4,
 "nbformat_minor": 4
}
