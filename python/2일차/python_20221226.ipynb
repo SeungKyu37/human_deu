{
 "cells": [
  {
   "cell_type": "markdown",
   "metadata": {
    "id": "MnqAd945045C"
   },
   "source": [
    "## 기초문법\n",
    "\n",
    "\n"
   ]
  },
  {
   "cell_type": "markdown",
   "metadata": {
    "id": "5Zua3sLh58QE"
   },
   "source": [
    "### 파이썬 확장자명\n",
    "- .py : 개발용\n",
    "- .ipynb : 분석가, 데이터 싸이언티스트, 강의용\n",
    "  + 주피터 노트북, 주피터 랩"
   ]
  },
  {
   "cell_type": "code",
   "execution_count": 1,
   "metadata": {
    "colab": {
     "base_uri": "https://localhost:8080/"
    },
    "id": "GGB1yFda1_eq",
    "outputId": "29c9099d-cba1-40a0-f358-915f10465a4e"
   },
   "outputs": [
    {
     "data": {
      "text/plain": [
       "2"
      ]
     },
     "execution_count": 1,
     "metadata": {},
     "output_type": "execute_result"
    }
   ],
   "source": [
    "1+1"
   ]
  },
  {
   "cell_type": "code",
   "execution_count": 2,
   "metadata": {
    "colab": {
     "base_uri": "https://localhost:8080/"
    },
    "id": "_5VkVAqS4ysr",
    "outputId": "514e65df-7e02-4b3f-8b7b-0824d6f03fc5"
   },
   "outputs": [
    {
     "name": "stdout",
     "output_type": "stream",
     "text": [
      "Hello, World\n"
     ]
    }
   ],
   "source": [
    "print(\"Hello, World\")"
   ]
  },
  {
   "cell_type": "markdown",
   "metadata": {
    "id": "pN2JYaLG4-QS"
   },
   "source": [
    "## 주석처리\n",
    "- 한줄 주석 처리\n",
    "- 여러줄 주석 처리\n",
    "\n"
   ]
  },
  {
   "cell_type": "code",
   "execution_count": 3,
   "metadata": {
    "colab": {
     "base_uri": "https://localhost:8080/"
    },
    "id": "E_Pi26wX5GbK",
    "outputId": "624ca867-5307-4732-8094-141a2558d4c6"
   },
   "outputs": [
    {
     "name": "stdout",
     "output_type": "stream",
     "text": [
      "Hello World\n"
     ]
    }
   ],
   "source": [
    "# 한줄 주석 처리, 주석 주석\n",
    "\n",
    "print(\"Hello World\")"
   ]
  },
  {
   "cell_type": "code",
   "execution_count": 5,
   "metadata": {
    "colab": {
     "base_uri": "https://localhost:8080/"
    },
    "id": "WgESwY8V5P4K",
    "outputId": "df4fe784-f9c5-4547-90e5-fa47a7cc9fec"
   },
   "outputs": [
    {
     "name": "stdout",
     "output_type": "stream",
     "text": [
      "Hello, World\n"
     ]
    }
   ],
   "source": [
    "\"\"\"\n",
    "abc\n",
    "dec\n",
    "def\n",
    "\"\"\"\n",
    "\n",
    "print(\"Hello, World\")"
   ]
  },
  {
   "cell_type": "markdown",
   "metadata": {
    "id": "g501F1Be8_0b"
   },
   "source": [
    "ipynb 파일을 md + 이미지 같이 변환 가능\n",
    "--> 노션에서 내보내기"
   ]
  },
  {
   "cell_type": "markdown",
   "metadata": {
    "id": "EHcXY5kO8yaF"
   },
   "source": [
    "## 그림"
   ]
  },
  {
   "cell_type": "code",
   "execution_count": 6,
   "metadata": {
    "colab": {
     "base_uri": "https://localhost:8080/",
     "height": 265
    },
    "id": "-8uoaXK280Uk",
    "outputId": "dc46a2ac-a9dd-4251-a161-9c4c69c59471"
   },
   "outputs": [
    {
     "data": {
      "image/png": "[encoded data removed]",
      "text/plain": [
       "<Figure size 432x288 with 1 Axes>"
      ]
     },
     "metadata": {
      "needs_background": "light"
     },
     "output_type": "display_data"
    }
   ],
   "source": [
    "import matplotlib.pyplot as plt\n",
    "\n",
    "plt.plot([1, 2, 3])\n",
    "plt.show()"
   ]
  },
  {
   "cell_type": "markdown",
   "metadata": {
    "id": "dqqM0_JU9YBE"
   },
   "source": [
    "## 변수의 종류\n",
    "- 변수의 종류 : 숫자, 문자, 논리(True, False), NULL\n",
    "\n"
   ]
  },
  {
   "cell_type": "code",
   "execution_count": 8,
   "metadata": {
    "colab": {
     "base_uri": "https://localhost:8080/"
    },
    "id": "CMi3mOLl9i_U",
    "outputId": "8543f058-b899-4de0-d862-513f2045b84b"
   },
   "outputs": [
    {
     "name": "stdout",
     "output_type": "stream",
     "text": [
      "1\n",
      "<class 'int'>\n"
     ]
    }
   ],
   "source": [
    "# 정수형\n",
    "num_int = 1\n",
    "print(num_int)\n",
    "print(type(num_int))"
   ]
  },
  {
   "cell_type": "code",
   "execution_count": 9,
   "metadata": {
    "colab": {
     "base_uri": "https://localhost:8080/"
    },
    "id": "VOSxIk3u91wM",
    "outputId": "51ab1e6c-b910-4c46-cfe2-d14e354f3ce1"
   },
   "outputs": [
    {
     "name": "stdout",
     "output_type": "stream",
     "text": [
      "0.2\n",
      "<class 'float'>\n"
     ]
    }
   ],
   "source": [
    "# 실수형\n",
    "num_float = 0.2\n",
    "print(num_float)\n",
    "print(type(num_float))"
   ]
  },
  {
   "cell_type": "code",
   "execution_count": 10,
   "metadata": {
    "colab": {
     "base_uri": "https://localhost:8080/"
    },
    "id": "q27_5P6W-gPl",
    "outputId": "461a6684-06a3-4ab2-aac0-0c0fde2a723f"
   },
   "outputs": [
    {
     "name": "stdout",
     "output_type": "stream",
     "text": [
      "False\n",
      "<class 'bool'>\n"
     ]
    }
   ],
   "source": [
    "# 논리 자료형\n",
    "bool_true = False # True\n",
    "print(bool_true)\n",
    "print(type(bool_true))"
   ]
  },
  {
   "cell_type": "code",
   "execution_count": 11,
   "metadata": {
    "colab": {
     "base_uri": "https://localhost:8080/"
    },
    "id": "8p7mXQ4r-vBV",
    "outputId": "91f96bf8-b286-495d-d2a9-1425664fb2ee"
   },
   "outputs": [
    {
     "name": "stdout",
     "output_type": "stream",
     "text": [
      "None\n",
      "<class 'NoneType'>\n"
     ]
    }
   ],
   "source": [
    "# NULL 자료형\n",
    "none_x = None\n",
    "print(none_x)\n",
    "print(type(none_x))"
   ]
  },
  {
   "cell_type": "markdown",
   "metadata": {
    "id": "LECLlc81_Ab9"
   },
   "source": [
    "### 4가지 자료형 : Scalar 자료형\n",
    "- int, float, bool, NoneType\n",
    "- 더는 나눌 수 없는 최소 단위의 자료형\n",
    "  + 이 객체 하나로는 반복문 사용이 불가"
   ]
  },
  {
   "cell_type": "markdown",
   "metadata": {
    "id": "Lj1F9lWg_xds"
   },
   "source": [
    "## 정수형 사칙 연산\n",
    "- 결괏값의 자료형 확인\n",
    "- 특이한 사칙연산 하나 있음(나눗셈) - 결과 : 실수형"
   ]
  },
  {
   "cell_type": "code",
   "execution_count": 19,
   "metadata": {
    "colab": {
     "base_uri": "https://localhost:8080/"
    },
    "id": "pr41-tyj_5BX",
    "outputId": "07f13f49-b2eb-4937-ee52-b17db1867d2d"
   },
   "outputs": [
    {
     "name": "stdout",
     "output_type": "stream",
     "text": [
      "2.0\n",
      "<class 'float'>\n"
     ]
    }
   ],
   "source": [
    "a = 4\n",
    "b = 2\n",
    "\n",
    "c = a / b\n",
    "\n",
    "print(c)\n",
    "print(type(c))"
   ]
  },
  {
   "cell_type": "markdown",
   "metadata": {
    "id": "M9tSKMjpAk4O"
   },
   "source": [
    "## 실수형 사칙 연산\n",
    "- 결괏값의 자료형 확인"
   ]
  },
  {
   "cell_type": "code",
   "execution_count": 21,
   "metadata": {
    "colab": {
     "base_uri": "https://localhost:8080/"
    },
    "id": "KPFcSBIUAnKl",
    "outputId": "a249f9da-21b5-4126-f842-d572aec23ba8"
   },
   "outputs": [
    {
     "name": "stdout",
     "output_type": "stream",
     "text": [
      "8.0\n",
      "<class 'float'>\n"
     ]
    }
   ],
   "source": [
    "a = 4.0\n",
    "b = 2.0\n",
    "\n",
    "c = a * b\n",
    "\n",
    "print(c)\n",
    "print(type(c))"
   ]
  },
  {
   "cell_type": "markdown",
   "metadata": {
    "id": "ApYv8UkJA2J_"
   },
   "source": [
    "## 논리형 연산자\n",
    "- AND / OR / NOT(옵션)"
   ]
  },
  {
   "cell_type": "code",
   "execution_count": 23,
   "metadata": {
    "colab": {
     "base_uri": "https://localhost:8080/"
    },
    "id": "6kJ_qfgPA_Od",
    "outputId": "663e53aa-c2b8-4e84-92b8-411e194dbe1d"
   },
   "outputs": [
    {
     "name": "stdout",
     "output_type": "stream",
     "text": [
      "True\n",
      "False\n",
      "False\n",
      "False\n"
     ]
    }
   ],
   "source": [
    "print(True and True)\n",
    "print(True and False)\n",
    "print(False and True)\n",
    "print(False and False)"
   ]
  },
  {
   "cell_type": "code",
   "execution_count": 24,
   "metadata": {
    "colab": {
     "base_uri": "https://localhost:8080/"
    },
    "id": "Wkv1bgW8BTJI",
    "outputId": "28b3789a-2b04-4acc-e8d7-187519eb6451"
   },
   "outputs": [
    {
     "name": "stdout",
     "output_type": "stream",
     "text": [
      "True\n",
      "True\n",
      "True\n",
      "False\n"
     ]
    }
   ],
   "source": [
    "print(True or True)\n",
    "print(True or False)\n",
    "print(False or True)\n",
    "print(False or False)"
   ]
  },
  {
   "cell_type": "markdown",
   "metadata": {
    "id": "J_Rm9I91BXCY"
   },
   "source": [
    "## 부등호 연산자\n",
    "- `>`, `<`, `>=`, `<=`"
   ]
  },
  {
   "cell_type": "code",
   "execution_count": 29,
   "metadata": {
    "colab": {
     "base_uri": "https://localhost:8080/"
    },
    "id": "caCBd_xnBmgN",
    "outputId": "834d09dc-0de0-4f6b-8113-6e8dd0689b05"
   },
   "outputs": [
    {
     "name": "stdout",
     "output_type": "stream",
     "text": [
      "True\n",
      "False\n",
      "True\n",
      "False\n"
     ]
    }
   ],
   "source": [
    "print(4 > 3)\n",
    "print(4 < 3)\n",
    "print(4 >= 3)\n",
    "print(4 <= 3)"
   ]
  },
  {
   "cell_type": "markdown",
   "metadata": {
    "id": "VIFVL1C7BziN"
   },
   "source": [
    "## 두 개의 값 비교\n",
    "- 입력받아서 True, False가 나오도록 간단한 프로그램 작성\n",
    "- 형변환 배우기"
   ]
  },
  {
   "cell_type": "code",
   "execution_count": 33,
   "metadata": {
    "colab": {
     "base_uri": "https://localhost:8080/"
    },
    "id": "2yjMZZz3CIFf",
    "outputId": "585e3882-2d51-4b82-f1c9-208c248fe90f"
   },
   "outputs": [
    {
     "name": "stdout",
     "output_type": "stream",
     "text": [
      "값을 입력해주세요!123\n",
      "----------\n",
      "123\n",
      "<class 'str'>\n"
     ]
    }
   ],
   "source": [
    "var = input(\"값을 입력해주세요!\")\n",
    "print(\"----------\")\n",
    "print(var)\n",
    "print(type(var))"
   ]
  },
  {
   "cell_type": "code",
   "execution_count": 36,
   "metadata": {
    "colab": {
     "base_uri": "https://localhost:8080/"
    },
    "id": "vfUpwgqxCuX-",
    "outputId": "3b2bae66-2750-437b-c6c4-fb2bd347d6a0"
   },
   "outputs": [
    {
     "name": "stdout",
     "output_type": "stream",
     "text": [
      "값을 입력해주세요!123\n",
      "값을 입력해주세요!456\n",
      "579.0\n"
     ]
    }
   ],
   "source": [
    "# 형변환\n",
    "# 바꾸고 싶은 타입(기존 자료형)\n",
    "\n",
    "var1 = float(input(\"값을 입력해주세요!\"))\n",
    "var2 = float(input(\"값을 입력해주세요!\"))\n",
    "\n",
    "print(var1 + var2)"
   ]
  },
  {
   "cell_type": "code",
   "execution_count": 37,
   "metadata": {
    "colab": {
     "base_uri": "https://localhost:8080/"
    },
    "id": "rluRhDMjDaXO",
    "outputId": "754dc21b-46c1-4aaa-adce-73a095560423"
   },
   "outputs": [
    {
     "name": "stdout",
     "output_type": "stream",
     "text": [
      "False\n"
     ]
    }
   ],
   "source": [
    "print(var1 > var2)"
   ]
  },
  {
   "cell_type": "markdown",
   "metadata": {},
   "source": [
    "## 문자열 연산자\n",
    "- 덧셈과 곱셈 활용"
   ]
  },
  {
   "cell_type": "code",
   "execution_count": null,
   "metadata": {},
   "outputs": [
    {
     "name": "stdout",
     "output_type": "stream",
     "text": [
      "Hello\n",
      "World\n"
     ]
    }
   ],
   "source": [
    "a = 'Hello'\n",
    "b = 'World'\n",
    "\n",
    "print(a)\n",
    "print(b)"
   ]
  },
  {
   "cell_type": "code",
   "execution_count": null,
   "metadata": {},
   "outputs": [
    {
     "name": "stdout",
     "output_type": "stream",
     "text": [
      "HelloWorld\n",
      "HelloWorldHelloWorldHelloWorld\n"
     ]
    }
   ],
   "source": [
    "c = a + b\n",
    "print(c)\n",
    "print(c * 3)"
   ]
  },
  {
   "cell_type": "markdown",
   "metadata": {},
   "source": [
    "## 인덱싱 (Indexing)\n",
    "- 문자열 범위 지정 및 추출"
   ]
  },
  {
   "cell_type": "code",
   "execution_count": null,
   "metadata": {},
   "outputs": [
    {
     "ename": "IndexError",
     "evalue": "string index out of range",
     "output_type": "error",
     "traceback": [
      "\u001b[1;31m---------------------------------------------------------------------------\u001b[0m\n",
      "\u001b[1;31mIndexError\u001b[0m                                Traceback (most recent call last)\n",
      "Cell \u001b[1;32mIn[14], line 2\u001b[0m\n",
      "\u001b[0;32m      1\u001b[0m greeting \u001b[38;5;241m=\u001b[39m \u001b[38;5;124m\"\u001b[39m\u001b[38;5;124mHello World!\u001b[39m\u001b[38;5;124m\"\u001b[39m\n",
      "\u001b[1;32m----> 2\u001b[0m \u001b[38;5;28mprint\u001b[39m(\u001b[43mgreeting\u001b[49m\u001b[43m[\u001b[49m\u001b[38;5;241;43m12\u001b[39;49m\u001b[43m]\u001b[49m)\n",
      "\n",
      "\u001b[1;31mIndexError\u001b[0m: string index out of range"
     ]
    }
   ],
   "source": [
    "greeting = \"Hello World!\"\n",
    "print(greeting[12]) # 에러 : 인덱스 범위를 벗어남"
   ]
  },
  {
   "cell_type": "markdown",
   "metadata": {},
   "source": [
    "## 슬라이싱\n",
    "- 주피터 노트북에서 마크다운으로 변환 / 마크다운으로 코드셀로 변환 단축기 존재"
   ]
  },
  {
   "cell_type": "code",
   "execution_count": null,
   "metadata": {},
   "outputs": [
    {
     "name": "stdout",
     "output_type": "stream",
     "text": [
      "Hello World!\n",
      "o World!\n",
      "oWrd\n",
      "Hello Wo\n",
      "HloW\n",
      "lo Wo\n",
      "HloWrd\n",
      "<class 'str'>\n",
      "0123456789\n",
      "3456789\n"
     ]
    }
   ],
   "source": [
    "greeting = \"Hello World!\"\n",
    "print(greeting[:])\n",
    "print(greeting[4:])\n",
    "print(greeting[4::2])\n",
    "print(greeting[:8]) # 7번째 글자까지\n",
    "print(greeting[:8:2])\n",
    "print(greeting[3:8])\n",
    "print(greeting[::2]) # 2칸씩 띄어서 가져오기\n",
    "\n",
    "number = \"0123456789\"\n",
    "print(type(number))\n",
    "print(number[:])\n",
    "print(number[3:])\n"
   ]
  },
  {
   "cell_type": "markdown",
   "metadata": {},
   "source": [
    "## 리스트\n",
    "- 가장 기본적인 배열 자료형(?) / ArrayList\n",
    "- 시퀀스 데이터 : 데이터에 순서가 존재함"
   ]
  },
  {
   "cell_type": "code",
   "execution_count": null,
   "metadata": {},
   "outputs": [
    {
     "name": "stdout",
     "output_type": "stream",
     "text": [
      "[]\n",
      "<class 'list'>\n",
      "[]\n",
      "<class 'list'>\n"
     ]
    }
   ],
   "source": [
    "a = [] # 값이 비어있는 리스트\n",
    "a_list_func = list() # 값이 비어있는 리스트\n",
    "\n",
    "print(a)\n",
    "print(type(a))\n",
    "\n",
    "print(a_list_func)\n",
    "print(type(a_list_func))"
   ]
  },
  {
   "cell_type": "markdown",
   "metadata": {},
   "source": [
    "- 값을 추가한다."
   ]
  },
  {
   "cell_type": "code",
   "execution_count": null,
   "metadata": {},
   "outputs": [
    {
     "name": "stdout",
     "output_type": "stream",
     "text": [
      "[1, 2, 3, 4, 5, 6, 7, 8, ['apple', 'banana', 'carrot'], 'humanedu']\n",
      "1\n",
      "[1, 3, 5, 7]\n"
     ]
    }
   ],
   "source": [
    "a = [1, 2, 3, 4, 5, 6, 7, 8, ['apple', 'banana', 'carrot'],\"humanedu\"]\n",
    "print(a)\n",
    "print(a[0])\n",
    "print(a[0:7:2])"
   ]
  },
  {
   "cell_type": "markdown",
   "metadata": {},
   "source": [
    "- a 리스트 안에 있는 banana 문자열에서 맨 마지막 글자 a를 추출한다.\n",
    "- 중첩리스트 : 리스트 안에 또다른 리스트가 존재함"
   ]
  },
  {
   "cell_type": "code",
   "execution_count": null,
   "metadata": {},
   "outputs": [
    {
     "name": "stdout",
     "output_type": "stream",
     "text": [
      "a\n"
     ]
    }
   ],
   "source": [
    "# b = a[8][1][-1]\n",
    "b = a[8]\n",
    "c = b[1]\n",
    "print(c[-1])"
   ]
  },
  {
   "cell_type": "code",
   "execution_count": null,
   "metadata": {},
   "outputs": [
    {
     "name": "stdout",
     "output_type": "stream",
     "text": [
      "a\n",
      "o\n",
      "e\n"
     ]
    }
   ],
   "source": [
    "# banana의 마지막 'a' 가져오기\n",
    "b = a[8][1][-1]\n",
    "print(b)\n",
    "\n",
    "# carrot의 'o'가져오기\n",
    "c = a[8][2][-2]\n",
    "print(c)\n",
    "\n",
    "# humanedu의 'e' 가져오기\n",
    "d = a[9][-3]\n",
    "print(d)"
   ]
  },
  {
   "cell_type": "markdown",
   "metadata": {},
   "source": [
    "## 리스트 연산자\n",
    "- 덧셈, 곱셈 적용 후 결과 확인\n"
   ]
  },
  {
   "cell_type": "code",
   "execution_count": null,
   "metadata": {},
   "outputs": [
    {
     "name": "stdout",
     "output_type": "stream",
     "text": [
      "[1, 2, 3, 4, 5, 6, 7]\n"
     ]
    }
   ],
   "source": [
    "a = [1, 2, 3]\n",
    "b = [4, 5, 6, 7]\n",
    "\n",
    "print(a + b)"
   ]
  },
  {
   "cell_type": "code",
   "execution_count": null,
   "metadata": {},
   "outputs": [
    {
     "name": "stdout",
     "output_type": "stream",
     "text": [
      "[1, 2, 3, 1, 2, 3, 1, 2, 3]\n"
     ]
    }
   ],
   "source": [
    "a = [1, 2, 3]\n",
    "print(a * 3)"
   ]
  },
  {
   "cell_type": "markdown",
   "metadata": {},
   "source": [
    "## 리스트 값 수정하기\n",
    "- 리스트 내 원소의 값을 수정한다."
   ]
  },
  {
   "cell_type": "code",
   "execution_count": null,
   "metadata": {},
   "outputs": [
    {
     "name": "stdout",
     "output_type": "stream",
     "text": [
      "['a', 'a', 'a', 'a']\n"
     ]
    }
   ],
   "source": [
    "a = ['a', 'b', 'a', 'a']\n",
    "a[1] = 'a'\n",
    "print(a)"
   ]
  },
  {
   "cell_type": "markdown",
   "metadata": {},
   "source": [
    "## 리스트 클래스 내부의 여러 함수\n",
    "- 참조 : https://docs.python.org/3/tutorial/datastructures.html"
   ]
  }
 ],
 "metadata": {
  "colab": {
   "provenance": [],
   "toc_visible": true
  },
  "kernelspec": {
   "display_name": "Python 3 (ipykernel)",
   "language": "python",
   "name": "python3"
  },
  "language_info": {
   "codemirror_mode": {
    "name": "ipython",
    "version": 3
   },
   "file_extension": ".py",
   "mimetype": "text/x-python",
   "name": "python",
   "nbconvert_exporter": "python",
   "pygments_lexer": "ipython3",
   "version": "3.11.1"
  }
 },
 "nbformat": 4,
 "nbformat_minor": 4
}
