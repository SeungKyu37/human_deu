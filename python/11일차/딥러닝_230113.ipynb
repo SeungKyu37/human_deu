{
  "nbformat": 4,
  "nbformat_minor": 0,
  "metadata": {
    "colab": {
      "provenance": []
    },
    "kernelspec": {
      "name": "python3",
      "display_name": "Python 3"
    },
    "language_info": {
      "name": "python"
    },
    "accelerator": "GPU",
    "gpuClass": "standard"
  },
  "cells": [
    {
      "cell_type": "markdown",
      "source": [
        "## 딥러닝\n",
        "- 18일 평가과제 : 텍스트 데이터 분석\n",
        "- 이미지\n",
        "- 자연어처리\n",
        "- 영상인식\n",
        "- 추천 알고리즘\n",
        "- 음성인식\n",
        "- etc"
      ],
      "metadata": {
        "id": "86dc_esYp90N"
      }
    },
    {
      "cell_type": "markdown",
      "source": [
        "## 새해 결심\n",
        "- 올해는 딥러닝 배울래!\n",
        "  + 홈페이지 간다. https://www.tensorflow.org/tutorials\n",
        "  + 교재 가급적 구매하지 않는다.\n",
        "    - 핸즈온 머신러닝 3탄 나오면 구매 권유\n"
      ],
      "metadata": {
        "id": "JOHKdgs5q4xN"
      }
    },
    {
      "cell_type": "code",
      "source": [
        "# 데이터 수집\n",
        "# 패션 MNIST\n",
        "from tensorflow import keras\n",
        "\n",
        "(train_input, train_target), (test_input, test_target) = keras.datasets.fashion_mnist.load_data()"
      ],
      "metadata": {
        "id": "r0xipVMCqtiG"
      },
      "execution_count": null,
      "outputs": []
    },
    {
      "cell_type": "code",
      "source": [
        "print(train_input.shape, train_target.shape)"
      ],
      "metadata": {
        "colab": {
          "base_uri": "https://localhost:8080/"
        },
        "id": "FVpARyLms8e-",
        "outputId": "dcd78eda-02c0-4e70-ca23-0af35c269bc8"
      },
      "execution_count": null,
      "outputs": [
        {
          "output_type": "stream",
          "name": "stdout",
          "text": [
            "(60000, 28, 28) (60000,)\n"
          ]
        }
      ]
    },
    {
      "cell_type": "code",
      "source": [
        "print(test_input.shape, test_target.shape)"
      ],
      "metadata": {
        "colab": {
          "base_uri": "https://localhost:8080/"
        },
        "id": "pZw8TzYDtTJk",
        "outputId": "deefb153-d722-40da-9229-c690d91939f6"
      },
      "execution_count": null,
      "outputs": [
        {
          "output_type": "stream",
          "name": "stdout",
          "text": [
            "(10000, 28, 28) (10000,)\n"
          ]
        }
      ]
    },
    {
      "cell_type": "markdown",
      "source": [
        "## 이미지 출력"
      ],
      "metadata": {
        "id": "iwM66tX1tip0"
      }
    },
    {
      "cell_type": "code",
      "source": [
        "import matplotlib.pyplot as plt\n",
        "fig, ax = plt.subplots(1, 10, figsize=(10, 10))\n",
        "\n",
        "for i in range(10):\n",
        "  ax[i].imshow(train_input[i], cmap = 'gray_r')\n",
        "  ax[i].axis('off')\n",
        "plt.show()"
      ],
      "metadata": {
        "colab": {
          "base_uri": "https://localhost:8080/",
          "height": 78
        },
        "id": "Kj4MCWu9tedE",
        "outputId": "2b470629-9cbe-40af-a7b5-a044b437561f"
      },
      "execution_count": null,
      "outputs": [
        {
          "output_type": "display_data",
          "data": {
            "text/plain": [
              "<Figure size 720x720 with 10 Axes>"
            ],
            "image/png": "[encoded data removed]"
          },
          "metadata": {
            "needs_background": "light"
          }
        }
      ]
    },
    {
      "cell_type": "code",
      "source": [
        "print([train_target[i] for i in range(10)])"
      ],
      "metadata": {
        "colab": {
          "base_uri": "https://localhost:8080/"
        },
        "id": "RmxV6nwWtg3k",
        "outputId": "cda07fb4-b0a1-43dc-e37e-7874f143c500"
      },
      "execution_count": null,
      "outputs": [
        {
          "output_type": "stream",
          "name": "stdout",
          "text": [
            "[9, 0, 0, 3, 0, 2, 7, 2, 5, 5]\n"
          ]
        }
      ]
    },
    {
      "cell_type": "markdown",
      "source": [
        "- 주어진 데이터의 라벨 (종속변수)에 따른 이미지의 갯수를 확인해보자."
      ],
      "metadata": {
        "id": "9-neIxuQuiu8"
      }
    },
    {
      "cell_type": "code",
      "source": [
        "import numpy as np\n",
        "print(np.unique(train_target, return_counts = True))"
      ],
      "metadata": {
        "colab": {
          "base_uri": "https://localhost:8080/"
        },
        "id": "y29ihMZEuqnc",
        "outputId": "a125b9f1-40d5-4fcd-909f-c2ba13109cbb"
      },
      "execution_count": null,
      "outputs": [
        {
          "output_type": "stream",
          "name": "stdout",
          "text": [
            "(array([0, 1, 2, 3, 4, 5, 6, 7, 8, 9], dtype=uint8), array([6000, 6000, 6000, 6000, 6000, 6000, 6000, 6000, 6000, 6000]))\n"
          ]
        }
      ]
    },
    {
      "cell_type": "markdown",
      "source": [
        "## 머신러닝에 대한 오해\n",
        "- 전통적인 머신러닝 알고리즘은 이미지/자연어/추천 동작하지 않는다?\n",
        "- 딥러닝 만능설 : 딥러닝 알고리즘은 모든 데이터에서 다 월등한 우위를 점한다.(X)\n",
        "- 머신러닝/딥러닝 알고리즘(도구)를 사용해서 다양하게 실험을 해본다."
      ],
      "metadata": {
        "id": "yxa0hkCPu_4W"
      }
    },
    {
      "cell_type": "markdown",
      "source": [
        "## 이미지 데이터 살짝 가공\n",
        "- 스케일링 한다."
      ],
      "metadata": {
        "id": "oY1q5D4bwMzl"
      }
    },
    {
      "cell_type": "code",
      "source": [
        "train_scaled = train_input / 255.0\n",
        "train_scaled = train_scaled.reshape(-1, 28 * 28)\n",
        "train_scaled.shape"
      ],
      "metadata": {
        "colab": {
          "base_uri": "https://localhost:8080/"
        },
        "id": "ihqO0kO9u-sc",
        "outputId": "ab744d5f-9ddb-41ce-ba60-810d89795b30"
      },
      "execution_count": null,
      "outputs": [
        {
          "output_type": "execute_result",
          "data": {
            "text/plain": [
              "(60000, 784)"
            ]
          },
          "metadata": {},
          "execution_count": 19
        }
      ]
    },
    {
      "cell_type": "code",
      "source": [
        "from sklearn.model_selection import cross_validate\n",
        "from sklearn.linear_model import SGDClassifier\n",
        "sc = SGDClassifier(loss = 'log', max_iter = 5, random_state = 42)\n",
        "scores = cross_validate(sc, train_scaled, train_target, n_jobs = -1)\n",
        "print(np.mean(scores['test_score']))"
      ],
      "metadata": {
        "colab": {
          "base_uri": "https://localhost:8080/"
        },
        "id": "w7gmsR4_wxmW",
        "outputId": "604d4401-9051-4c05-d6a8-3dbea7e75c3b"
      },
      "execution_count": null,
      "outputs": [
        {
          "output_type": "stream",
          "name": "stdout",
          "text": [
            "0.8195666666666668\n"
          ]
        }
      ]
    },
    {
      "cell_type": "markdown",
      "source": [
        "## 텐서플로 프레임워크 모델만들기"
      ],
      "metadata": {
        "id": "xglBo2n9xwNt"
      }
    },
    {
      "cell_type": "code",
      "source": [
        "# 훈련데이터와 검증데이터로 분리\n",
        "from sklearn.model_selection import train_test_split\n",
        "\n",
        "train_scaled, val_scaled, train_target, val_target = train_test_split(\n",
        "    train_scaled, train_target, test_size = 0.2, random_state = 42\n",
        ")"
      ],
      "metadata": {
        "id": "aledOy8gxSou"
      },
      "execution_count": null,
      "outputs": []
    },
    {
      "cell_type": "code",
      "source": [
        "dense = keras.layers.Dense(10, activation='softmax', input_shape = (784, ))\n",
        "model = keras.Sequential(dense)\n",
        "model.compile(loss = 'sparse_categorical_crossentropy', metrics = 'accuracy')\n",
        "model.fit(train_scaled, train_target, epochs = 5)"
      ],
      "metadata": {
        "colab": {
          "base_uri": "https://localhost:8080/"
        },
        "id": "UhPPjiZlya2V",
        "outputId": "a21fbfa4-2d5e-445a-c42f-ba3e3f581739"
      },
      "execution_count": null,
      "outputs": [
        {
          "output_type": "stream",
          "name": "stdout",
          "text": [
            "Epoch 1/5\n",
            "1500/1500 [==============================] - 3s 2ms/step - loss: 0.6096 - accuracy: 0.7940\n",
            "Epoch 2/5\n",
            "1500/1500 [==============================] - 3s 2ms/step - loss: 0.4788 - accuracy: 0.8400\n",
            "Epoch 3/5\n",
            "1500/1500 [==============================] - 3s 2ms/step - loss: 0.4546 - accuracy: 0.8483\n",
            "Epoch 4/5\n",
            "1500/1500 [==============================] - 3s 2ms/step - loss: 0.4441 - accuracy: 0.8512\n",
            "Epoch 5/5\n",
            "1500/1500 [==============================] - 3s 2ms/step - loss: 0.4364 - accuracy: 0.8547\n"
          ]
        },
        {
          "output_type": "execute_result",
          "data": {
            "text/plain": [
              "<keras.callbacks.History at 0x7f7a9c6afe50>"
            ]
          },
          "metadata": {},
          "execution_count": 22
        }
      ]
    },
    {
      "cell_type": "code",
      "source": [
        "model.evaluate(val_scaled, val_target)"
      ],
      "metadata": {
        "colab": {
          "base_uri": "https://localhost:8080/"
        },
        "id": "mb-aZCgfzKsO",
        "outputId": "7c244b80-f8e7-4bfd-acb3-14546e1b1c7a"
      },
      "execution_count": null,
      "outputs": [
        {
          "output_type": "stream",
          "name": "stdout",
          "text": [
            "375/375 [==============================] - 1s 2ms/step - loss: 0.4421 - accuracy: 0.8499\n"
          ]
        },
        {
          "output_type": "execute_result",
          "data": {
            "text/plain": [
              "[0.44206586480140686, 0.8499166369438171]"
            ]
          },
          "metadata": {},
          "execution_count": 23
        }
      ]
    },
    {
      "cell_type": "markdown",
      "source": [
        "- 캐글 노트북, 구글 코랩 GPU 연산\n",
        "  + 런타임 - 런타임 유형변경 - GPU설정"
      ],
      "metadata": {
        "id": "_b3zw9JC3qdN"
      }
    },
    {
      "cell_type": "code",
      "source": [
        "# 데이터 수집\n",
        "# 패션 MNIST \n",
        "from tensorflow import keras \n",
        "\n",
        "# 훈련데이터와 검증데이터로 분리\n",
        "from sklearn.model_selection import train_test_split \n",
        "\n",
        "(train_input, train_target), (test_input, test_target) = keras.datasets.fashion_mnist.load_data()\n",
        "train_scaled = train_input / 255.0 \n",
        "train_scaled = train_scaled.reshape(-1, 28 * 28)\n",
        "\n",
        "train_scaled, val_scaled, train_target, val_target = train_test_split(\n",
        "    train_scaled, train_target, test_size = 0.2, random_state=42\n",
        ")"
      ],
      "metadata": {
        "id": "5ZRrSxZqdmbz"
      },
      "execution_count": null,
      "outputs": []
    },
    {
      "cell_type": "code",
      "source": [
        "train_scaled.shape, val_scaled.shape, train_target.shape, val_target.shape"
      ],
      "metadata": {
        "colab": {
          "base_uri": "https://localhost:8080/"
        },
        "id": "UqoGlORQeKR2",
        "outputId": "8ef71628-c3c2-45ba-c9ef-73885a1aa124"
      },
      "execution_count": null,
      "outputs": [
        {
          "output_type": "execute_result",
          "data": {
            "text/plain": [
              "((48000, 784), (12000, 784), (48000,), (12000,))"
            ]
          },
          "metadata": {},
          "execution_count": 25
        }
      ]
    },
    {
      "cell_type": "markdown",
      "source": [
        "## 딥러닝 모형 만들기\n",
        "- 층(layer)를 구성한다. "
      ],
      "metadata": {
        "id": "l-UqUJvreLwi"
      }
    },
    {
      "cell_type": "code",
      "source": [
        "dense1 = keras.layers.Dense(100, activation='sigmoid', input_shape=(784, ))\n",
        "dense2 = keras.layers.Dense(10, activation='softmax')\n",
        "\n",
        "# 심층신경망\n",
        "model = keras.Sequential([dense1, dense2])\n",
        "model.summary()"
      ],
      "metadata": {
        "colab": {
          "base_uri": "https://localhost:8080/"
        },
        "id": "ORQd2mTSeMeh",
        "outputId": "cb208616-6c27-4547-fb52-1444c5865aac"
      },
      "execution_count": null,
      "outputs": [
        {
          "output_type": "stream",
          "name": "stdout",
          "text": [
            "Model: \"sequential_2\"\n",
            "_________________________________________________________________\n",
            " Layer (type)                Output Shape              Param #   \n",
            "=================================================================\n",
            " dense_2 (Dense)             (None, 100)               78500     \n",
            "                                                                 \n",
            " dense_3 (Dense)             (None, 10)                1010      \n",
            "                                                                 \n",
            "=================================================================\n",
            "Total params: 79,510\n",
            "Trainable params: 79,510\n",
            "Non-trainable params: 0\n",
            "_________________________________________________________________\n"
          ]
        }
      ]
    },
    {
      "cell_type": "markdown",
      "source": [
        "- 다른 방법"
      ],
      "metadata": {
        "id": "4OyIOXgzeNth"
      }
    },
    {
      "cell_type": "code",
      "source": [
        "model = keras.Sequential([\n",
        "    keras.layers.Dense(100, activation='sigmoid', input_shape=(784, ), name = 'hidden'),\n",
        "    keras.layers.Dense(10, activation='softmax', name = 'output')\n",
        "], name = 'Fashion')\n",
        "\n",
        "model.summary()"
      ],
      "metadata": {
        "colab": {
          "base_uri": "https://localhost:8080/"
        },
        "id": "Fq49UTbHeO4V",
        "outputId": "bfef1e5a-4427-4ef7-8684-9e9fc0b82de3"
      },
      "execution_count": null,
      "outputs": [
        {
          "output_type": "stream",
          "name": "stdout",
          "text": [
            "Model: \"Fashion\"\n",
            "_________________________________________________________________\n",
            " Layer (type)                Output Shape              Param #   \n",
            "=================================================================\n",
            " hidden (Dense)              (None, 100)               78500     \n",
            "                                                                 \n",
            " output (Dense)              (None, 10)                1010      \n",
            "                                                                 \n",
            "=================================================================\n",
            "Total params: 79,510\n",
            "Trainable params: 79,510\n",
            "Non-trainable params: 0\n",
            "_________________________________________________________________\n"
          ]
        }
      ]
    },
    {
      "cell_type": "markdown",
      "source": [
        "- 모델 컴파일"
      ],
      "metadata": {
        "id": "lWEgZDBoeQA_"
      }
    },
    {
      "cell_type": "code",
      "source": [
        "model.compile(loss = 'sparse_categorical_crossentropy', metrics = 'accuracy')\n",
        "model.fit(train_scaled, train_target, epochs = 5)"
      ],
      "metadata": {
        "colab": {
          "base_uri": "https://localhost:8080/"
        },
        "id": "c9xjHdCYeRhU",
        "outputId": "a2cbdf57-fac1-4009-f11b-7263453aab76"
      },
      "execution_count": null,
      "outputs": [
        {
          "output_type": "stream",
          "name": "stdout",
          "text": [
            "Epoch 1/5\n",
            "1500/1500 [==============================] - 4s 2ms/step - loss: 0.5643 - accuracy: 0.8093\n",
            "Epoch 2/5\n",
            "1500/1500 [==============================] - 3s 2ms/step - loss: 0.4084 - accuracy: 0.8529\n",
            "Epoch 3/5\n",
            "1500/1500 [==============================] - 3s 2ms/step - loss: 0.3730 - accuracy: 0.8647\n",
            "Epoch 4/5\n",
            "1500/1500 [==============================] - 3s 2ms/step - loss: 0.3513 - accuracy: 0.8730\n",
            "Epoch 5/5\n",
            "1500/1500 [==============================] - 4s 3ms/step - loss: 0.3327 - accuracy: 0.8791\n"
          ]
        },
        {
          "output_type": "execute_result",
          "data": {
            "text/plain": [
              "<keras.callbacks.History at 0x7f7a9c56b190>"
            ]
          },
          "metadata": {},
          "execution_count": 28
        }
      ]
    },
    {
      "cell_type": "markdown",
      "source": [
        "- 1949년도 모델을 1970년대 모델로 업그레이드 함\n",
        "  + 히든 레이어 추가함\n",
        "  + 효과 : 정확도 3% 향상"
      ],
      "metadata": {
        "id": "K94YXSaLeSez"
      }
    },
    {
      "cell_type": "markdown",
      "source": [
        "## 시그모이드 함수 : 활성화 함수\n",
        "- 시그모이드 (로지스틱 회귀분석)\n",
        "- 가장 대표적으로, 일반적으로 자주 사용하는 활성화 함수 : ReLu 함수"
      ],
      "metadata": {
        "id": "5DDR1u03eTUO"
      }
    },
    {
      "cell_type": "code",
      "source": [
        "model = keras.Sequential([\n",
        "    keras.layers.Dense(100, activation='relu', input_shape=(784, ), name = 'hidden'),\n",
        "    keras.layers.Dense(10, activation='softmax', name = 'output')\n",
        "], name = 'Fashion')\n",
        "\n",
        "model.compile(loss = 'sparse_categorical_crossentropy', metrics = 'accuracy')\n",
        "model.fit(train_scaled, train_target, epochs = 5)"
      ],
      "metadata": {
        "colab": {
          "base_uri": "https://localhost:8080/"
        },
        "id": "geU1Yv5QeUEi",
        "outputId": "e80b3924-0559-4833-89ed-8ddc035b44a4"
      },
      "execution_count": null,
      "outputs": [
        {
          "output_type": "stream",
          "name": "stdout",
          "text": [
            "Epoch 1/5\n",
            "1500/1500 [==============================] - 4s 2ms/step - loss: 0.5298 - accuracy: 0.8137\n",
            "Epoch 2/5\n",
            "1500/1500 [==============================] - 4s 3ms/step - loss: 0.3914 - accuracy: 0.8594\n",
            "Epoch 3/5\n",
            "1500/1500 [==============================] - 4s 2ms/step - loss: 0.3551 - accuracy: 0.8738\n",
            "Epoch 4/5\n",
            "1500/1500 [==============================] - 3s 2ms/step - loss: 0.3344 - accuracy: 0.8806\n",
            "Epoch 5/5\n",
            "1500/1500 [==============================] - 3s 2ms/step - loss: 0.3214 - accuracy: 0.8864\n"
          ]
        },
        {
          "output_type": "execute_result",
          "data": {
            "text/plain": [
              "<keras.callbacks.History at 0x7f7a9c43de50>"
            ]
          },
          "metadata": {},
          "execution_count": 29
        }
      ]
    },
    {
      "cell_type": "code",
      "source": [
        "model.evaluate(val_scaled, val_target)"
      ],
      "metadata": {
        "colab": {
          "base_uri": "https://localhost:8080/"
        },
        "id": "RAQU_bWseUw-",
        "outputId": "582575a1-9902-4455-b7a2-40b6529348ab"
      },
      "execution_count": null,
      "outputs": [
        {
          "output_type": "stream",
          "name": "stdout",
          "text": [
            "375/375 [==============================] - 1s 2ms/step - loss: 0.3886 - accuracy: 0.8683\n"
          ]
        },
        {
          "output_type": "execute_result",
          "data": {
            "text/plain": [
              "[0.3885970115661621, 0.8683333396911621]"
            ]
          },
          "metadata": {},
          "execution_count": 30
        }
      ]
    },
    {
      "cell_type": "markdown",
      "source": [
        "## 딥러닝 모형 과적합 확인\n"
      ],
      "metadata": {
        "id": "1kF4s5F4eV6K"
      }
    },
    {
      "cell_type": "code",
      "source": [
        "# 데이터 수집\n",
        "# 패션 MNIST \n",
        "from tensorflow import keras \n",
        "\n",
        "# 훈련데이터와 검증데이터로 분리\n",
        "from sklearn.model_selection import train_test_split \n",
        "\n",
        "(train_input, train_target), (test_input, test_target) = keras.datasets.fashion_mnist.load_data()\n",
        "train_scaled = train_input / 255.0 \n",
        "# train_scaled = train_scaled.reshape(-1, 28 * 28)\n",
        "\n",
        "train_scaled, val_scaled, train_target, val_target = train_test_split(\n",
        "    train_scaled, train_target, test_size = 0.2, random_state=42\n",
        ")"
      ],
      "metadata": {
        "id": "Odbp4er8eW5k"
      },
      "execution_count": null,
      "outputs": []
    },
    {
      "cell_type": "markdown",
      "source": [
        "- 모델 만들기"
      ],
      "metadata": {
        "id": "qppSTZZMeYFy"
      }
    },
    {
      "cell_type": "code",
      "source": [
        "def model_fn(a_layer=None):\n",
        "  model = keras.Sequential() \n",
        "  model.add(keras.layers.Flatten(input_shape=(28, 28)))\n",
        "  model.add(keras.layers.Dense(100, activation='relu'))\n",
        "  if a_layer:\n",
        "    model.add(a_layer)\n",
        "  \n",
        "  model.add(keras.layers.Dense(10, activation='softmax'))\n",
        "  return model"
      ],
      "metadata": {
        "id": "CT8WJoYAeZHL"
      },
      "execution_count": null,
      "outputs": []
    },
    {
      "cell_type": "code",
      "source": [
        "model = model_fn() \n",
        "model.summary()"
      ],
      "metadata": {
        "colab": {
          "base_uri": "https://localhost:8080/"
        },
        "id": "FuZ7XDjyeZ6X",
        "outputId": "42b1e561-f584-45c3-f4aa-771571954660"
      },
      "execution_count": null,
      "outputs": [
        {
          "output_type": "stream",
          "name": "stdout",
          "text": [
            "Model: \"sequential_3\"\n",
            "_________________________________________________________________\n",
            " Layer (type)                Output Shape              Param #   \n",
            "=================================================================\n",
            " flatten (Flatten)           (None, 784)               0         \n",
            "                                                                 \n",
            " dense_4 (Dense)             (None, 100)               78500     \n",
            "                                                                 \n",
            " dense_5 (Dense)             (None, 10)                1010      \n",
            "                                                                 \n",
            "=================================================================\n",
            "Total params: 79,510\n",
            "Trainable params: 79,510\n",
            "Non-trainable params: 0\n",
            "_________________________________________________________________\n"
          ]
        }
      ]
    },
    {
      "cell_type": "code",
      "source": [
        "model.compile(loss = 'sparse_categorical_crossentropy', metrics = 'accuracy')\n",
        "history = model.fit(train_scaled, train_target, epochs = 10, verbose=0)\n"
      ],
      "metadata": {
        "id": "vAHFM-9LeasB"
      },
      "execution_count": null,
      "outputs": []
    },
    {
      "cell_type": "code",
      "source": [
        "print(history.history.keys())\n",
        "print(history.history)"
      ],
      "metadata": {
        "colab": {
          "base_uri": "https://localhost:8080/"
        },
        "id": "51OL2GxNebSV",
        "outputId": "06c80a62-e48f-4970-b7ed-89ab7829dc30"
      },
      "execution_count": null,
      "outputs": [
        {
          "output_type": "stream",
          "name": "stdout",
          "text": [
            "dict_keys(['loss', 'accuracy'])\n",
            "{'loss': [0.5340730547904968, 0.3970237970352173, 0.35905152559280396, 0.3371449112892151, 0.31945741176605225, 0.3103969097137451, 0.3009187877178192, 0.2927435636520386, 0.28412672877311707, 0.27646544575691223], 'accuracy': [0.812624990940094, 0.8581874966621399, 0.8706250190734863, 0.879562497138977, 0.8865000009536743, 0.8898749947547913, 0.893583357334137, 0.8966458439826965, 0.8991875052452087, 0.9019583463668823]}\n"
          ]
        }
      ]
    },
    {
      "cell_type": "code",
      "source": [
        "import matplotlib.pyplot as plt \n",
        "\n",
        "fig, ax = plt.subplots()\n",
        "ax.plot(history.history['loss'])\n",
        "ax.set_xlabel('epoch')\n",
        "ax.set_ylabel('loss')\n",
        "plt.show()"
      ],
      "metadata": {
        "colab": {
          "base_uri": "https://localhost:8080/"
        },
        "id": "FscoF7Wneb0K",
        "outputId": "4031d086-6fdf-4dd3-f3fd-42dbda51dba1"
      },
      "execution_count": null,
      "outputs": [
        {
          "output_type": "display_data",
          "data": {
            "text/plain": [
              "<Figure size 432x288 with 1 Axes>"
            ],
            "image/png": "[encoded data removed]"
          },
          "metadata": {
            "needs_background": "light"
          }
        }
      ]
    },
    {
      "cell_type": "code",
      "source": [
        "import matplotlib.pyplot as plt \n",
        "\n",
        "fig, ax = plt.subplots()\n",
        "ax.plot(history.history['accuracy'])\n",
        "ax.set_xlabel('epoch')\n",
        "ax.set_ylabel('accuracy')\n",
        "plt.show()"
      ],
      "metadata": {
        "colab": {
          "base_uri": "https://localhost:8080/"
        },
        "id": "cXtTmSeqecj2",
        "outputId": "dcc37d80-cf2d-4feb-ee5e-1df5a261126b"
      },
      "execution_count": null,
      "outputs": [
        {
          "output_type": "display_data",
          "data": {
            "text/plain": [
              "<Figure size 432x288 with 1 Axes>"
            ],
            "image/png": "[encoded data removed]"
          },
          "metadata": {
            "needs_background": "light"
          }
        }
      ]
    },
    {
      "cell_type": "markdown",
      "source": [
        "- 검증데이터 활용"
      ],
      "metadata": {
        "id": "ic7TkBMYedn1"
      }
    },
    {
      "cell_type": "code",
      "source": [
        "history = model.fit(train_scaled, \n",
        "                    train_target, \n",
        "                    epochs = 20, \n",
        "                    verbose=0, \n",
        "                    validation_data = (val_scaled, val_target))\n"
      ],
      "metadata": {
        "id": "fG3UkcJgeeYR"
      },
      "execution_count": null,
      "outputs": []
    },
    {
      "cell_type": "code",
      "source": [
        "print(history.history.keys())"
      ],
      "metadata": {
        "colab": {
          "base_uri": "https://localhost:8080/"
        },
        "id": "O2Grn5s2efWR",
        "outputId": "110765d4-730c-4bf2-96ce-02d039c1b6a1"
      },
      "execution_count": null,
      "outputs": [
        {
          "output_type": "stream",
          "name": "stdout",
          "text": [
            "dict_keys(['loss', 'accuracy', 'val_loss', 'val_accuracy'])\n"
          ]
        }
      ]
    },
    {
      "cell_type": "code",
      "source": [
        "fig, ax = plt.subplots()\n",
        "ax.plot(history.history['loss'])\n",
        "ax.plot(history.history['val_loss'])\n",
        "ax.set_xlabel('epoch')\n",
        "ax.set_ylabel('loss')\n",
        "plt.legend(['train', 'val'])\n",
        "plt.show()"
      ],
      "metadata": {
        "colab": {
          "base_uri": "https://localhost:8080/"
        },
        "id": "8_KAhu-OegA6",
        "outputId": "07d6bf3e-45ab-4ae0-a108-38b225a63e40"
      },
      "execution_count": null,
      "outputs": [
        {
          "output_type": "display_data",
          "data": {
            "text/plain": [
              "<Figure size 432x288 with 1 Axes>"
            ],
            "image/png": "[encoded data removed]"
          },
          "metadata": {
            "needs_background": "light"
          }
        }
      ]
    },
    {
      "cell_type": "markdown",
      "source": [
        "- 과대적합(=과적합=Overfitting)"
      ],
      "metadata": {
        "id": "L52NQHItehBE"
      }
    },
    {
      "cell_type": "markdown",
      "source": [
        "## 옵티마이저\n",
        "- 모형 가속기 "
      ],
      "metadata": {
        "id": "UTrATnOleiPU"
      }
    },
    {
      "cell_type": "code",
      "source": [
        "model.compile(optimizer = 'adam', \n",
        "              loss = 'sparse_categorical_crossentropy', \n",
        "              metrics = 'accuracy')\n",
        "\n",
        "history = model.fit(train_scaled, \n",
        "                    train_target, \n",
        "                    epochs = 20, \n",
        "                    verbose=0, \n",
        "                    validation_data = (val_scaled, val_target))\n",
        "\n",
        "fig, ax = plt.subplots()\n",
        "ax.plot(history.history['loss'])\n",
        "ax.plot(history.history['val_loss'])\n",
        "ax.set_xlabel('epoch')\n",
        "ax.set_ylabel('loss')\n",
        "plt.legend(['train', 'val'])\n",
        "plt.show()"
      ],
      "metadata": {
        "colab": {
          "base_uri": "https://localhost:8080/",
          "height": 281
        },
        "id": "9BZxzP7SejKO",
        "outputId": "b91fdc66-33f7-474f-da27-41d778112b5e"
      },
      "execution_count": null,
      "outputs": [
        {
          "output_type": "display_data",
          "data": {
            "text/plain": [
              "<Figure size 432x288 with 1 Axes>"
            ],
            "image/png": "[encoded data removed]"
          },
          "metadata": {
            "needs_background": "light"
          }
        }
      ]
    },
    {
      "cell_type": "markdown",
      "source": [
        "## 드롭아웃 \n",
        "- 중요함. \n",
        "- 현재 문제점 : 과적합이 계속 일어남\n",
        "  + 가장 확실한 방법 : 드롭아웃\n",
        "- 과적합을 해소해줌\n",
        "- 모형 학습 시간을 단축\n",
        "\n"
      ],
      "metadata": {
        "id": "_h3yMVLSenq2"
      }
    },
    {
      "cell_type": "markdown",
      "source": [
        "## Early Stopping\n",
        "- 모형 학습속도가 줄어듬\n",
        "  + 예) epoch 1000번, 100번째 정확도가 99%. 남은 900번을 계속 해야 하는건가? "
      ],
      "metadata": {
        "id": "bSy9zzyWeorZ"
      }
    },
    {
      "cell_type": "code",
      "source": [
        "# 데이터 수집\n",
        "# 패션 MNIST \n",
        "from tensorflow import keras \n",
        "\n",
        "# 훈련데이터와 검증데이터로 분리\n",
        "from sklearn.model_selection import train_test_split \n",
        "\n",
        "(train_input, train_target), (test_input, test_target) = keras.datasets.fashion_mnist.load_data()\n",
        "train_scaled = train_input / 255.0 \n",
        "# train_scaled = train_scaled.reshape(-1, 28 * 28)\n",
        "\n",
        "train_scaled, val_scaled, train_target, val_target = train_test_split(\n",
        "    train_scaled, train_target, test_size = 0.2, random_state=42\n",
        ")\n",
        "\n",
        "def model_fn(a_layer=None):\n",
        "  model = keras.Sequential() \n",
        "  model.add(keras.layers.Flatten(input_shape=(28, 28)))\n",
        "  model.add(keras.layers.Dense(100, activation='relu'))\n",
        "  if a_layer:\n",
        "    model.add(a_layer)\n",
        "  \n",
        "  model.add(keras.layers.Dense(10, activation='softmax'))\n",
        "  return model"
      ],
      "metadata": {
        "id": "sXshLM10epgv"
      },
      "execution_count": null,
      "outputs": []
    },
    {
      "cell_type": "code",
      "source": [
        "model = model_fn(keras.layers.Dropout(0.3))\n",
        "model.summary()"
      ],
      "metadata": {
        "colab": {
          "base_uri": "https://localhost:8080/"
        },
        "id": "pRsI7tfLeqY6",
        "outputId": "cd25c97e-4376-4893-d9ef-000d43c3cf13"
      },
      "execution_count": null,
      "outputs": [
        {
          "output_type": "stream",
          "name": "stdout",
          "text": [
            "Model: \"sequential_4\"\n",
            "_________________________________________________________________\n",
            " Layer (type)                Output Shape              Param #   \n",
            "=================================================================\n",
            " flatten_1 (Flatten)         (None, 784)               0         \n",
            "                                                                 \n",
            " dense_6 (Dense)             (None, 100)               78500     \n",
            "                                                                 \n",
            " dropout (Dropout)           (None, 100)               0         \n",
            "                                                                 \n",
            " dense_7 (Dense)             (None, 10)                1010      \n",
            "                                                                 \n",
            "=================================================================\n",
            "Total params: 79,510\n",
            "Trainable params: 79,510\n",
            "Non-trainable params: 0\n",
            "_________________________________________________________________\n"
          ]
        }
      ]
    },
    {
      "cell_type": "code",
      "source": [
        "model.compile(optimizer = 'adam', \n",
        "              loss = 'sparse_categorical_crossentropy', \n",
        "              metrics = 'accuracy')\n",
        "\n",
        "history = model.fit(train_scaled, \n",
        "                    train_target, \n",
        "                    epochs = 20, \n",
        "                    verbose=0, \n",
        "                    validation_data = (val_scaled, val_target))\n",
        "\n",
        "fig, ax = plt.subplots()\n",
        "ax.plot(history.history['loss'])\n",
        "ax.plot(history.history['val_loss'])\n",
        "ax.set_xlabel('epoch')\n",
        "ax.set_ylabel('loss')\n",
        "plt.legend(['train', 'val'])\n",
        "plt.show()"
      ],
      "metadata": {
        "colab": {
          "base_uri": "https://localhost:8080/",
          "height": 282
        },
        "id": "ZTz_KYvRerUE",
        "outputId": "3b9276e1-32f3-4a65-c80f-dad827559319"
      },
      "execution_count": null,
      "outputs": [
        {
          "output_type": "display_data",
          "data": {
            "text/plain": [
              "<Figure size 432x288 with 1 Axes>"
            ],
            "image/png": "[encoded data removed]"
          },
          "metadata": {
            "needs_background": "light"
          }
        }
      ]
    },
    {
      "cell_type": "markdown",
      "source": [
        "## 머신러닝/딥러닝 모형을 만들 때 연구자가 가장 신경써야 하는 포인트 : 과적합 방지  "
      ],
      "metadata": {
        "id": "SKnhMOdJespK"
      }
    },
    {
      "cell_type": "markdown",
      "source": [
        "## 모델 저장\n",
        "- 모델 저장"
      ],
      "metadata": {
        "id": "W9su3tCtetc_"
      }
    },
    {
      "cell_type": "code",
      "source": [
        "model.save_weights('model-weights.h5')"
      ],
      "metadata": {
        "id": "rlLbr7cCeuj_"
      },
      "execution_count": null,
      "outputs": []
    },
    {
      "cell_type": "code",
      "source": [
        "model.save('model-whole.h5')"
      ],
      "metadata": {
        "id": "As1IYphBevQ7"
      },
      "execution_count": null,
      "outputs": []
    },
    {
      "cell_type": "markdown",
      "source": [
        "## 모델 불러오기"
      ],
      "metadata": {
        "id": "e10l69V-ewZs"
      }
    },
    {
      "cell_type": "code",
      "source": [
        "model2 = keras.models.load_model('model-whole.h5')\n",
        "model2.evaluate(val_scaled, val_target)"
      ],
      "metadata": {
        "colab": {
          "base_uri": "https://localhost:8080/"
        },
        "id": "o5H1Znpaexew",
        "outputId": "783091d6-1526-4f5a-f8c7-c17d3bbab33e"
      },
      "execution_count": null,
      "outputs": [
        {
          "output_type": "stream",
          "name": "stdout",
          "text": [
            "375/375 [==============================] - 1s 2ms/step - loss: 0.3274 - accuracy: 0.8868\n"
          ]
        },
        {
          "output_type": "execute_result",
          "data": {
            "text/plain": [
              "[0.32740840315818787, 0.8868333101272583]"
            ]
          },
          "metadata": {},
          "execution_count": 47
        }
      ]
    },
    {
      "cell_type": "code",
      "source": [
        "model.evaluate(val_scaled, val_target)"
      ],
      "metadata": {
        "colab": {
          "base_uri": "https://localhost:8080/"
        },
        "id": "4qRPlV8OeyO2",
        "outputId": "266626a0-eb64-478b-ac75-756f2e80f50b"
      },
      "execution_count": null,
      "outputs": [
        {
          "output_type": "stream",
          "name": "stdout",
          "text": [
            "375/375 [==============================] - 1s 2ms/step - loss: 0.3274 - accuracy: 0.8868\n"
          ]
        },
        {
          "output_type": "execute_result",
          "data": {
            "text/plain": [
              "[0.32740840315818787, 0.8868333101272583]"
            ]
          },
          "metadata": {},
          "execution_count": 48
        }
      ]
    }
  ]
}