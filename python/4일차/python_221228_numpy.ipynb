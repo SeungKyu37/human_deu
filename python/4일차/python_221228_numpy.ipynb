{
  "nbformat": 4,
  "nbformat_minor": 0,
  "metadata": {
    "colab": {
      "provenance": []
    },
    "kernelspec": {
      "name": "python3",
      "display_name": "Python 3"
    },
    "language_info": {
      "name": "python"
    }
  },
  "cells": [
    {
      "cell_type": "markdown",
      "source": [
        "## 라이브러리 불러오기\n",
        "- 라이브러리 불러오고, 버전 확인\n"
      ],
      "metadata": {
        "id": "-VT7mgoLP8ad"
      }
    },
    {
      "cell_type": "code",
      "execution_count": null,
      "metadata": {
        "colab": {
          "base_uri": "https://localhost:8080/"
        },
        "id": "fMj7BAe1EujP",
        "outputId": "b0858025-83fa-4658-f9ad-27f494d47f98"
      },
      "outputs": [
        {
          "output_type": "stream",
          "name": "stdout",
          "text": [
            "1.21.6\n"
          ]
        }
      ],
      "source": [
        "# import numpy as np\n",
        "# print(np.__version__)\n",
        "\n",
        "import numpy\n",
        "print(numpy.__version__)"
      ]
    },
    {
      "cell_type": "markdown",
      "source": [
        "## NumPy 배열로 변환\n",
        "- 수치 연산을 하고 싶다!\n",
        "- 파이썬 기초 자료형을 배열로 변환한다!\n",
        "--> 형변환 이 개념과 유사"
      ],
      "metadata": {
        "id": "l8ilT9ZGQuC3"
      }
    },
    {
      "cell_type": "code",
      "source": [],
      "metadata": {
        "id": "j1ljj5sPiGbg"
      },
      "execution_count": null,
      "outputs": []
    },
    {
      "cell_type": "code",
      "source": [
        "temp = [1, 2, 3, 4, 5, 6, 7, 8]\n",
        "result = np.array(temp)\n",
        "print(type(result))\n",
        "print(result)"
      ],
      "metadata": {
        "colab": {
          "base_uri": "https://localhost:8080/"
        },
        "id": "fG_KknaFQ7eU",
        "outputId": "1323c6ff-0d26-4faf-b8d3-5aeca5d994db"
      },
      "execution_count": null,
      "outputs": [
        {
          "output_type": "stream",
          "name": "stdout",
          "text": [
            "<class 'numpy.ndarray'>\n",
            "[1 2 3 4 5 6 7 8]\n"
          ]
        }
      ]
    },
    {
      "cell_type": "markdown",
      "source": [
        "- 배열의 크기\n",
        "- 배열은 1차원 / 2차원 / 3차원"
      ],
      "metadata": {
        "id": "FLyHzU4pSXDt"
      }
    },
    {
      "cell_type": "code",
      "source": [
        "result.shape # 값이 몇개인지"
      ],
      "metadata": {
        "colab": {
          "base_uri": "https://localhost:8080/"
        },
        "id": "3mehc4jqRqPw",
        "outputId": "d8d956ae-bd86-467b-d4b5-53767d6343f5"
      },
      "execution_count": null,
      "outputs": [
        {
          "output_type": "execute_result",
          "data": {
            "text/plain": [
              "(8,)"
            ]
          },
          "metadata": {},
          "execution_count": 19
        }
      ]
    },
    {
      "cell_type": "code",
      "source": [
        "result.ndim # 몇차원의 배열인지"
      ],
      "metadata": {
        "colab": {
          "base_uri": "https://localhost:8080/"
        },
        "id": "duDRR_kESovF",
        "outputId": "511d73a9-999b-4979-cd2a-783d2e2b68ae"
      },
      "execution_count": null,
      "outputs": [
        {
          "output_type": "execute_result",
          "data": {
            "text/plain": [
              "1"
            ]
          },
          "metadata": {},
          "execution_count": 20
        }
      ]
    },
    {
      "cell_type": "markdown",
      "source": [
        "- 다차원 배열 만들자"
      ],
      "metadata": {
        "id": "zh8sRFCPTFBk"
      }
    },
    {
      "cell_type": "code",
      "source": [
        "temp = np.array([[2, 4 , 6], [8, 10, 12]])\n",
        "print(temp)\n",
        "print(temp.shape)\n",
        "print(temp.ndim)"
      ],
      "metadata": {
        "colab": {
          "base_uri": "https://localhost:8080/"
        },
        "id": "c3mrMBB2TGx9",
        "outputId": "98b14fc4-2af5-4724-920a-af270002d3a9"
      },
      "execution_count": null,
      "outputs": [
        {
          "output_type": "stream",
          "name": "stdout",
          "text": [
            "[[ 2  4  6]\n",
            " [ 8 10 12]]\n",
            "(2, 3)\n",
            "2\n"
          ]
        }
      ]
    },
    {
      "cell_type": "markdown",
      "source": [
        "- 3차원 배열도 가능\n",
        "- 4차원 가능...."
      ],
      "metadata": {
        "id": "6yaDvB4ZTi80"
      }
    },
    {
      "cell_type": "markdown",
      "source": [
        "## 여러 배열 생성 기본 함수\n",
        "- np.arange()"
      ],
      "metadata": {
        "id": "6QUGtmLoTyl9"
      }
    },
    {
      "cell_type": "code",
      "source": [
        "temp = np.arange(5)\n",
        "temp"
      ],
      "metadata": {
        "colab": {
          "base_uri": "https://localhost:8080/"
        },
        "id": "gFP8UPTNT32F",
        "outputId": "70f3b6fd-1fe8-4e4a-d37f-0728c84deeae"
      },
      "execution_count": null,
      "outputs": [
        {
          "output_type": "execute_result",
          "data": {
            "text/plain": [
              "array([0, 1, 2, 3, 4])"
            ]
          },
          "metadata": {},
          "execution_count": 27
        }
      ]
    },
    {
      "cell_type": "code",
      "source": [
        "temp_z = np.zeros((2, 2, 2))\n",
        "print(temp_z)\n",
        "print(temp_z.shape)\n",
        "print(temp_z.ndim)\n",
        "\n",
        "# 데이터 타입\n",
        "print(temp_z.dtype)"
      ],
      "metadata": {
        "colab": {
          "base_uri": "https://localhost:8080/"
        },
        "id": "RS0ZYd99T_BF",
        "outputId": "8e765212-919f-4035-a966-df8c3e37b4c2"
      },
      "execution_count": null,
      "outputs": [
        {
          "output_type": "stream",
          "name": "stdout",
          "text": [
            "[[[0. 0.]\n",
            "  [0. 0.]]\n",
            "\n",
            " [[0. 0.]\n",
            "  [0. 0.]]]\n",
            "(2, 2, 2)\n",
            "3\n",
            "float64\n"
          ]
        }
      ]
    },
    {
      "cell_type": "markdown",
      "source": [
        "- 데이터 타입 크기 지정\n"
      ],
      "metadata": {
        "id": "6BZhh6b2U7ty"
      }
    },
    {
      "cell_type": "code",
      "source": [
        "temp_one = np.ones((3,4), dtype='int32')\n",
        "print(temp_one)\n",
        "print(temp_one.dtype)"
      ],
      "metadata": {
        "colab": {
          "base_uri": "https://localhost:8080/"
        },
        "id": "yfEiI7d1U9rv",
        "outputId": "55d7c89d-6bbd-4a18-97de-63eded5168e4"
      },
      "execution_count": null,
      "outputs": [
        {
          "output_type": "stream",
          "name": "stdout",
          "text": [
            "[[1 1 1 1]\n",
            " [1 1 1 1]\n",
            " [1 1 1 1]]\n",
            "int32\n"
          ]
        }
      ]
    },
    {
      "cell_type": "code",
      "source": [
        "result = temp_one.reshape(-1, 2) # 알아서 계산\n",
        "print(result)\n",
        "print(result.shape)\n",
        "result = temp_one.reshape(2, 2, 3) # 재배열 # 1차원, 2차원, ...  다차원도 가능\n",
        "print(result)\n",
        "print(result.shape)"
      ],
      "metadata": {
        "colab": {
          "base_uri": "https://localhost:8080/"
        },
        "id": "ywV43h8oV6em",
        "outputId": "efc3fc1e-9290-4612-d32f-ada140edcada"
      },
      "execution_count": null,
      "outputs": [
        {
          "output_type": "stream",
          "name": "stdout",
          "text": [
            "(6, 2)\n",
            "[[[1 1 1]\n",
            "  [1 1 1]]\n",
            "\n",
            " [[1 1 1]\n",
            "  [1 1 1]]]\n",
            "(2, 2, 3)\n"
          ]
        }
      ]
    },
    {
      "cell_type": "markdown",
      "source": [
        "## 인덱싱 슬라이싱\n"
      ],
      "metadata": {
        "id": "cRCOMaJ-XPLe"
      }
    },
    {
      "cell_type": "code",
      "source": [
        "temp = np.arange(0, 4)\n",
        "print(temp)"
      ],
      "metadata": {
        "colab": {
          "base_uri": "https://localhost:8080/"
        },
        "id": "a8kvDURJXSnv",
        "outputId": "ccb5df64-869e-47c0-dccd-838cd1dbd48e"
      },
      "execution_count": null,
      "outputs": [
        {
          "output_type": "stream",
          "name": "stdout",
          "text": [
            "[0 1 2 3]\n"
          ]
        }
      ]
    },
    {
      "cell_type": "code",
      "source": [
        "temp[0:2] # 슬라이싱"
      ],
      "metadata": {
        "colab": {
          "base_uri": "https://localhost:8080/"
        },
        "id": "PQ_RlJEyXZOV",
        "outputId": "b08789fa-436b-45d4-cbab-df91575020af"
      },
      "execution_count": null,
      "outputs": [
        {
          "output_type": "execute_result",
          "data": {
            "text/plain": [
              "array([0, 1])"
            ]
          },
          "metadata": {},
          "execution_count": 47
        }
      ]
    },
    {
      "cell_type": "code",
      "source": [
        "temp = np.arange(3, 30, 3).reshape(3, 3)\n",
        "temp"
      ],
      "metadata": {
        "colab": {
          "base_uri": "https://localhost:8080/"
        },
        "id": "d4ZlUoJkXeQ-",
        "outputId": "d5429449-d770-426b-d1b9-f4e719fc2a99"
      },
      "execution_count": null,
      "outputs": [
        {
          "output_type": "execute_result",
          "data": {
            "text/plain": [
              "array([[ 3,  6,  9],\n",
              "       [12, 15, 18],\n",
              "       [21, 24, 27]])"
            ]
          },
          "metadata": {},
          "execution_count": 58
        }
      ]
    },
    {
      "cell_type": "code",
      "source": [
        "temp[0:2, 0:3] # [행, 열]"
      ],
      "metadata": {
        "colab": {
          "base_uri": "https://localhost:8080/"
        },
        "id": "mDShVAjnXoLf",
        "outputId": "8c106498-4a70-4669-daf9-38c048dec3d3"
      },
      "execution_count": null,
      "outputs": [
        {
          "output_type": "execute_result",
          "data": {
            "text/plain": [
              "array([[ 3,  6,  9],\n",
              "       [12, 15, 18]])"
            ]
          },
          "metadata": {},
          "execution_count": 53
        }
      ]
    },
    {
      "cell_type": "code",
      "source": [
        "temp[1:3, :]"
      ],
      "metadata": {
        "colab": {
          "base_uri": "https://localhost:8080/"
        },
        "id": "VkJgIs-BYBeu",
        "outputId": "6f48301d-f066-4fde-df66-f693994712bc"
      },
      "execution_count": null,
      "outputs": [
        {
          "output_type": "execute_result",
          "data": {
            "text/plain": [
              "array([[12, 15, 18],\n",
              "       [21, 24, 27]])"
            ]
          },
          "metadata": {},
          "execution_count": 55
        }
      ]
    },
    {
      "cell_type": "code",
      "source": [
        "temp[:, 1:3]"
      ],
      "metadata": {
        "colab": {
          "base_uri": "https://localhost:8080/"
        },
        "id": "pUrQhGM4YEoe",
        "outputId": "807df174-e2d4-49cb-c5f5-25a6d62a2613"
      },
      "execution_count": null,
      "outputs": [
        {
          "output_type": "execute_result",
          "data": {
            "text/plain": [
              "array([[ 6,  9],\n",
              "       [15, 18],\n",
              "       [24, 27]])"
            ]
          },
          "metadata": {},
          "execution_count": 56
        }
      ]
    },
    {
      "cell_type": "markdown",
      "source": [
        "## 난수 생성\n",
        "- 임의의 숫자 생성"
      ],
      "metadata": {
        "id": "4zhiG4gLf1D4"
      }
    },
    {
      "cell_type": "code",
      "source": [
        "from numpy import random\n",
        "x = random.rand()\n",
        "# 같은 것\n",
        "# import numpy\n",
        "# x = numpy.random.rand()\n",
        "\n",
        "print(x)"
      ],
      "metadata": {
        "colab": {
          "base_uri": "https://localhost:8080/"
        },
        "id": "Xy2arKzkf-DI",
        "outputId": "8f8b6c78-a28f-45a6-84d5-20e26b29ae4f"
      },
      "execution_count": null,
      "outputs": [
        {
          "output_type": "stream",
          "name": "stdout",
          "text": [
            "0.2777358168987767\n"
          ]
        }
      ]
    },
    {
      "cell_type": "code",
      "source": [
        "from numpy import random\n",
        "x = random.rand(2,5)\n",
        "print(x)"
      ],
      "metadata": {
        "colab": {
          "base_uri": "https://localhost:8080/"
        },
        "id": "7l4KpcFsh6Qh",
        "outputId": "af64eb8b-36f5-4338-d945-ac35df7d2ea3"
      },
      "execution_count": null,
      "outputs": [
        {
          "output_type": "stream",
          "name": "stdout",
          "text": [
            "[[0.17882267 0.63951817 0.86442301 0.9657287  0.33975646]\n",
            " [0.69272102 0.01212002 0.11382888 0.19537494 0.57856842]]\n"
          ]
        }
      ]
    },
    {
      "cell_type": "markdown",
      "source": [
        "- 임의의 정수\n"
      ],
      "metadata": {
        "id": "w4BBzX6AgptY"
      }
    },
    {
      "cell_type": "code",
      "source": [
        "from numpy import random\n",
        "x = random.randint(100, size = (5, 2 ,3))\n",
        "print(x)"
      ],
      "metadata": {
        "colab": {
          "base_uri": "https://localhost:8080/"
        },
        "id": "PPxe22SagrHY",
        "outputId": "deb6b508-c81e-4c1f-d5fb-8fe5c504110d"
      },
      "execution_count": null,
      "outputs": [
        {
          "output_type": "stream",
          "name": "stdout",
          "text": [
            "[[[69 82 36]\n",
            "  [76 81 71]]\n",
            "\n",
            " [[73 81 21]\n",
            "  [30 89 79]]\n",
            "\n",
            " [[35 39 61]\n",
            "  [79 61 69]]\n",
            "\n",
            " [[43 50 96]\n",
            "  [13 54 71]]\n",
            "\n",
            " [[ 1  0 65]\n",
            "  [29 80 72]]]\n"
          ]
        }
      ]
    },
    {
      "cell_type": "markdown",
      "source": [
        "## 배열 연산"
      ],
      "metadata": {
        "id": "hvEimgb1h_eR"
      }
    },
    {
      "cell_type": "code",
      "source": [
        "array01 = random.randint(100, size = (5,2))\n",
        "array02 = random.randint(1000, size = (5,2))\n",
        "\n",
        "print(array01)\n",
        "print(array02)"
      ],
      "metadata": {
        "colab": {
          "base_uri": "https://localhost:8080/"
        },
        "id": "Pr2ALfsciBIp",
        "outputId": "3fb76a67-6005-4800-d560-eb271727283b"
      },
      "execution_count": null,
      "outputs": [
        {
          "output_type": "stream",
          "name": "stdout",
          "text": [
            "[[16  7]\n",
            " [29 17]\n",
            " [67 75]\n",
            " [27 24]\n",
            " [58 24]]\n",
            "[[791 999]\n",
            " [664 236]\n",
            " [648 180]\n",
            " [189  95]\n",
            " [598 421]]\n"
          ]
        }
      ]
    },
    {
      "cell_type": "code",
      "source": [
        "import numpy as np\n",
        "\n",
        "# 덧셈\n",
        "np.add(array01, array02)"
      ],
      "metadata": {
        "colab": {
          "base_uri": "https://localhost:8080/"
        },
        "id": "1e7Ks_duiXVk",
        "outputId": "3c096348-0c68-4162-f6ce-38cb44d71da2"
      },
      "execution_count": null,
      "outputs": [
        {
          "output_type": "execute_result",
          "data": {
            "text/plain": [
              "array([[ 807, 1006],\n",
              "       [ 693,  253],\n",
              "       [ 715,  255],\n",
              "       [ 216,  119],\n",
              "       [ 656,  445]])"
            ]
          },
          "metadata": {},
          "execution_count": 80
        }
      ]
    },
    {
      "cell_type": "code",
      "source": [
        "# 뺄셈\n",
        "np.subtract(array01, array02)"
      ],
      "metadata": {
        "colab": {
          "base_uri": "https://localhost:8080/"
        },
        "id": "6TMbemYBienI",
        "outputId": "5292b517-a4d5-4457-b81c-f9fb7515f8e2"
      },
      "execution_count": null,
      "outputs": [
        {
          "output_type": "execute_result",
          "data": {
            "text/plain": [
              "array([[-775, -992],\n",
              "       [-635, -219],\n",
              "       [-581, -105],\n",
              "       [-162,  -71],\n",
              "       [-540, -397]])"
            ]
          },
          "metadata": {},
          "execution_count": 81
        }
      ]
    },
    {
      "cell_type": "code",
      "source": [
        "# 곱셈\n",
        "np.multiply(array01, array02)"
      ],
      "metadata": {
        "colab": {
          "base_uri": "https://localhost:8080/"
        },
        "id": "Up23iBt4ikex",
        "outputId": "6a5f14d0-5e85-4579-9597-2b5a8cc2031d"
      },
      "execution_count": null,
      "outputs": [
        {
          "output_type": "execute_result",
          "data": {
            "text/plain": [
              "array([[12656,  6993],\n",
              "       [19256,  4012],\n",
              "       [43416, 13500],\n",
              "       [ 5103,  2280],\n",
              "       [34684, 10104]])"
            ]
          },
          "metadata": {},
          "execution_count": 82
        }
      ]
    },
    {
      "cell_type": "code",
      "source": [
        "# 나눗셈\n",
        "np.divide(array01, array02)"
      ],
      "metadata": {
        "colab": {
          "base_uri": "https://localhost:8080/"
        },
        "id": "NdoISQIgirYo",
        "outputId": "fd1909c5-5e79-4b6c-c0f1-6f08e54e55f1"
      },
      "execution_count": null,
      "outputs": [
        {
          "output_type": "execute_result",
          "data": {
            "text/plain": [
              "array([[0.02022756, 0.00700701],\n",
              "       [0.0436747 , 0.0720339 ],\n",
              "       [0.10339506, 0.41666667],\n",
              "       [0.14285714, 0.25263158],\n",
              "       [0.09698997, 0.05700713]])"
            ]
          },
          "metadata": {},
          "execution_count": 83
        }
      ]
    },
    {
      "cell_type": "markdown",
      "source": [
        "## 소숫점 제거 "
      ],
      "metadata": {
        "id": "WMT5PZI_jme0"
      }
    },
    {
      "cell_type": "code",
      "source": [
        "array01 = np.trunc([-1.23, 1.23]) # 소숫점 제거\n",
        "array01"
      ],
      "metadata": {
        "colab": {
          "base_uri": "https://localhost:8080/"
        },
        "id": "JLw3_OM-jp9q",
        "outputId": "81cafb81-a327-4b74-ac9b-c7546f5a5d0f"
      },
      "execution_count": null,
      "outputs": [
        {
          "output_type": "execute_result",
          "data": {
            "text/plain": [
              "array([-1.,  1.])"
            ]
          },
          "metadata": {},
          "execution_count": 86
        }
      ]
    },
    {
      "cell_type": "code",
      "source": [
        "array01 = np.round([-1.231231312313, 1.234123123144], 3) # 셋째자리 반올림\n",
        "array01"
      ],
      "metadata": {
        "colab": {
          "base_uri": "https://localhost:8080/"
        },
        "id": "80VMhNv_jx75",
        "outputId": "222e9b4a-a01e-4a2b-a397-dbdc164624f7"
      },
      "execution_count": null,
      "outputs": [
        {
          "output_type": "execute_result",
          "data": {
            "text/plain": [
              "array([-1.231,  1.234])"
            ]
          },
          "metadata": {},
          "execution_count": 88
        }
      ]
    },
    {
      "cell_type": "code",
      "source": [
        "array01 = np.floor([-1.231231312313, 1.234123123144]) # 내림\n",
        "array01"
      ],
      "metadata": {
        "colab": {
          "base_uri": "https://localhost:8080/"
        },
        "id": "qNWOuVCskBft",
        "outputId": "6782ff38-a07e-4587-d4bf-00153a81deee"
      },
      "execution_count": null,
      "outputs": [
        {
          "output_type": "execute_result",
          "data": {
            "text/plain": [
              "array([-2.,  1.])"
            ]
          },
          "metadata": {},
          "execution_count": 90
        }
      ]
    },
    {
      "cell_type": "code",
      "source": [
        "array01 = np.ceil([-1.231231312313, 1.234123123144]) # 올림\n",
        "array01"
      ],
      "metadata": {
        "colab": {
          "base_uri": "https://localhost:8080/"
        },
        "id": "IdMsUbthkDZV",
        "outputId": "0614de6f-b0c8-4a16-d4a3-d254963c6685"
      },
      "execution_count": null,
      "outputs": [
        {
          "output_type": "execute_result",
          "data": {
            "text/plain": [
              "array([-1.,  2.])"
            ]
          },
          "metadata": {},
          "execution_count": 91
        }
      ]
    },
    {
      "cell_type": "markdown",
      "source": [
        "## NumPy 조건식\n",
        "- numpy.select() : 다중조건문\n",
        "- numpy.where() : 단일조건문"
      ],
      "metadata": {
        "id": "S9VBUQE2kgR1"
      }
    },
    {
      "cell_type": "code",
      "source": [
        "array01 = np.arange(10)\n",
        "array01 "
      ],
      "metadata": {
        "colab": {
          "base_uri": "https://localhost:8080/"
        },
        "id": "iLym9rgnknux",
        "outputId": "709ce035-8a16-4e37-8904-9d8c5c0c2a5e"
      },
      "execution_count": null,
      "outputs": [
        {
          "output_type": "execute_result",
          "data": {
            "text/plain": [
              "array([0, 1, 2, 3, 4, 5, 6, 7, 8, 9])"
            ]
          },
          "metadata": {},
          "execution_count": 92
        }
      ]
    },
    {
      "cell_type": "code",
      "source": [
        "# 배열에서 5 미만이면, 원래 값 반환, 그 외에는 원래 값 * 100\n",
        "import numpy as np\n",
        "#        조건식         참       거짓\n",
        "np.where(array01 < 5, array01, array01 * 100)"
      ],
      "metadata": {
        "colab": {
          "base_uri": "https://localhost:8080/"
        },
        "id": "AksbWP_2k6DS",
        "outputId": "89023ecc-be85-42d2-e1f6-f5d6c3e9990c"
      },
      "execution_count": null,
      "outputs": [
        {
          "output_type": "execute_result",
          "data": {
            "text/plain": [
              "array([  0,   1,   2,   3,   4, 500, 600, 700, 800, 900])"
            ]
          },
          "metadata": {},
          "execution_count": 93
        }
      ]
    },
    {
      "cell_type": "markdown",
      "source": [
        "- 다중조건"
      ],
      "metadata": {
        "id": "y0l3OZDbljqa"
      }
    },
    {
      "cell_type": "code",
      "source": [
        "# 배열에서 3 미만이면, 원래 값 + 10, 7 이상이면 * 100, 그 외에는 원래값\n",
        "cond_list =   [array01 < 3,  array01 >= 7]\n",
        "result_list = [array01 + 10, array01 * 100]\n",
        "\n",
        "# np.select(조건리스트, 결과리스트, default 값)\n",
        "np.select(cond_list, result_list, default = array01)"
      ],
      "metadata": {
        "colab": {
          "base_uri": "https://localhost:8080/"
        },
        "id": "fyKP-dmhllhq",
        "outputId": "d55b6361-dff1-4e93-c7e3-4527ea5891ad"
      },
      "execution_count": null,
      "outputs": [
        {
          "output_type": "execute_result",
          "data": {
            "text/plain": [
              "array([ 10,  11,  12,   3,   4,   5,   6, 700, 800, 900])"
            ]
          },
          "metadata": {},
          "execution_count": 95
        }
      ]
    }
  ]
}